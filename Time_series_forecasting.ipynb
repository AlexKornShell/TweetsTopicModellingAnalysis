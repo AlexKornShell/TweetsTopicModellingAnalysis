{
 "cells": [
  {
   "cell_type": "code",
   "execution_count": 42,
   "metadata": {},
   "outputs": [
    {
     "name": "stdout",
     "output_type": "stream",
     "text": [
      "Populating the interactive namespace from numpy and matplotlib\n"
     ]
    }
   ],
   "source": [
    "%pylab inline\n",
    "import matplotlib.pyplot as plt\n",
    "import numpy as np\n",
    "import pandas as pd\n",
    "import warnings\n",
    "from scipy import stats\n",
    "import statsmodels.api as sm\n",
    "from itertools import product\n",
    "from scipy.ndimage import gaussian_filter\n",
    "import statsmodels.api as sm\n",
    "from statsmodels.tsa.arima_model import ARIMA\n",
    "warnings.filterwarnings('ignore')"
   ]
  },
  {
   "cell_type": "code",
   "execution_count": 43,
   "metadata": {},
   "outputs": [
    {
     "data": {
      "text/html": [
       "<div>\n",
       "<style scoped>\n",
       "    .dataframe tbody tr th:only-of-type {\n",
       "        vertical-align: middle;\n",
       "    }\n",
       "\n",
       "    .dataframe tbody tr th {\n",
       "        vertical-align: top;\n",
       "    }\n",
       "\n",
       "    .dataframe thead th {\n",
       "        text-align: right;\n",
       "    }\n",
       "</style>\n",
       "<table border=\"1\" class=\"dataframe\">\n",
       "  <thead>\n",
       "    <tr style=\"text-align: right;\">\n",
       "      <th></th>\n",
       "      <th>Confirmed_new_US</th>\n",
       "      <th>Deaths_new_US</th>\n",
       "      <th>retail_US</th>\n",
       "      <th>retail_US_diff</th>\n",
       "      <th>grocery_US</th>\n",
       "      <th>grocery_US_diff</th>\n",
       "      <th>parks_US</th>\n",
       "      <th>parks_US_diff</th>\n",
       "      <th>transit_google_US</th>\n",
       "      <th>transit_google_US_diff</th>\n",
       "      <th>...</th>\n",
       "      <th>sbj18_count_weighted</th>\n",
       "      <th>sbj18_favourites_weighted</th>\n",
       "      <th>sbj18_retweet_weighted</th>\n",
       "      <th>sbj18_popularity_weighted</th>\n",
       "      <th>sbj18_engagement_weighted</th>\n",
       "      <th>sbj19_count_weighted</th>\n",
       "      <th>sbj19_favourites_weighted</th>\n",
       "      <th>sbj19_retweet_weighted</th>\n",
       "      <th>sbj19_popularity_weighted</th>\n",
       "      <th>sbj19_engagement_weighted</th>\n",
       "    </tr>\n",
       "    <tr>\n",
       "      <th>Date</th>\n",
       "      <th></th>\n",
       "      <th></th>\n",
       "      <th></th>\n",
       "      <th></th>\n",
       "      <th></th>\n",
       "      <th></th>\n",
       "      <th></th>\n",
       "      <th></th>\n",
       "      <th></th>\n",
       "      <th></th>\n",
       "      <th></th>\n",
       "      <th></th>\n",
       "      <th></th>\n",
       "      <th></th>\n",
       "      <th></th>\n",
       "      <th></th>\n",
       "      <th></th>\n",
       "      <th></th>\n",
       "      <th></th>\n",
       "      <th></th>\n",
       "      <th></th>\n",
       "    </tr>\n",
       "  </thead>\n",
       "  <tbody>\n",
       "    <tr>\n",
       "      <th>2020-03-12</th>\n",
       "      <td>393.0</td>\n",
       "      <td>4.0</td>\n",
       "      <td>10.019729</td>\n",
       "      <td>0.298444</td>\n",
       "      <td>22.720821</td>\n",
       "      <td>11.653862</td>\n",
       "      <td>27.285120</td>\n",
       "      <td>-7.292266</td>\n",
       "      <td>3.783693</td>\n",
       "      <td>-0.742964</td>\n",
       "      <td>...</td>\n",
       "      <td>30.366361</td>\n",
       "      <td>514516.320753</td>\n",
       "      <td>45.712579</td>\n",
       "      <td>517724.963144</td>\n",
       "      <td>783.021048</td>\n",
       "      <td>27.048881</td>\n",
       "      <td>517553.563224</td>\n",
       "      <td>32.312411</td>\n",
       "      <td>519821.625393</td>\n",
       "      <td>539.441568</td>\n",
       "    </tr>\n",
       "    <tr>\n",
       "      <th>2020-03-13</th>\n",
       "      <td>565.0</td>\n",
       "      <td>8.0</td>\n",
       "      <td>4.074367</td>\n",
       "      <td>-5.945362</td>\n",
       "      <td>25.283834</td>\n",
       "      <td>2.563012</td>\n",
       "      <td>12.217885</td>\n",
       "      <td>-15.067236</td>\n",
       "      <td>-0.098021</td>\n",
       "      <td>-3.881714</td>\n",
       "      <td>...</td>\n",
       "      <td>51.415687</td>\n",
       "      <td>836270.520446</td>\n",
       "      <td>48.754029</td>\n",
       "      <td>839692.647253</td>\n",
       "      <td>968.619367</td>\n",
       "      <td>59.714706</td>\n",
       "      <td>798435.590596</td>\n",
       "      <td>48.365220</td>\n",
       "      <td>801830.426310</td>\n",
       "      <td>1060.201632</td>\n",
       "    </tr>\n",
       "    <tr>\n",
       "      <th>2020-03-14</th>\n",
       "      <td>662.0</td>\n",
       "      <td>7.0</td>\n",
       "      <td>-2.160826</td>\n",
       "      <td>-6.235193</td>\n",
       "      <td>18.225341</td>\n",
       "      <td>-7.058493</td>\n",
       "      <td>12.997491</td>\n",
       "      <td>0.779606</td>\n",
       "      <td>-1.399180</td>\n",
       "      <td>-1.301159</td>\n",
       "      <td>...</td>\n",
       "      <td>30.026926</td>\n",
       "      <td>412672.078334</td>\n",
       "      <td>35.293293</td>\n",
       "      <td>415149.373605</td>\n",
       "      <td>498.918563</td>\n",
       "      <td>33.665548</td>\n",
       "      <td>952106.469811</td>\n",
       "      <td>54.937148</td>\n",
       "      <td>955962.600118</td>\n",
       "      <td>529.734021</td>\n",
       "    </tr>\n",
       "    <tr>\n",
       "      <th>2020-03-15</th>\n",
       "      <td>676.0</td>\n",
       "      <td>6.0</td>\n",
       "      <td>-2.062134</td>\n",
       "      <td>0.098692</td>\n",
       "      <td>16.525736</td>\n",
       "      <td>-1.699605</td>\n",
       "      <td>17.774478</td>\n",
       "      <td>4.776987</td>\n",
       "      <td>-2.441142</td>\n",
       "      <td>-1.041962</td>\n",
       "      <td>...</td>\n",
       "      <td>34.589109</td>\n",
       "      <td>614574.186140</td>\n",
       "      <td>39.893033</td>\n",
       "      <td>617374.344831</td>\n",
       "      <td>511.806045</td>\n",
       "      <td>37.896720</td>\n",
       "      <td>675710.595514</td>\n",
       "      <td>45.739917</td>\n",
       "      <td>678921.156824</td>\n",
       "      <td>733.813344</td>\n",
       "    </tr>\n",
       "    <tr>\n",
       "      <th>2020-03-16</th>\n",
       "      <td>872.0</td>\n",
       "      <td>14.0</td>\n",
       "      <td>-1.841855</td>\n",
       "      <td>0.220279</td>\n",
       "      <td>24.997330</td>\n",
       "      <td>8.471594</td>\n",
       "      <td>8.546993</td>\n",
       "      <td>-9.227485</td>\n",
       "      <td>-7.109609</td>\n",
       "      <td>-4.668467</td>\n",
       "      <td>...</td>\n",
       "      <td>41.989440</td>\n",
       "      <td>500040.190409</td>\n",
       "      <td>36.960089</td>\n",
       "      <td>502634.480863</td>\n",
       "      <td>650.507595</td>\n",
       "      <td>39.237705</td>\n",
       "      <td>546805.424915</td>\n",
       "      <td>39.925328</td>\n",
       "      <td>549607.850484</td>\n",
       "      <td>705.573526</td>\n",
       "    </tr>\n",
       "  </tbody>\n",
       "</table>\n",
       "<p>5 rows × 300 columns</p>\n",
       "</div>"
      ],
      "text/plain": [
       "            Confirmed_new_US  Deaths_new_US  retail_US  retail_US_diff  \\\n",
       "Date                                                                     \n",
       "2020-03-12             393.0            4.0  10.019729        0.298444   \n",
       "2020-03-13             565.0            8.0   4.074367       -5.945362   \n",
       "2020-03-14             662.0            7.0  -2.160826       -6.235193   \n",
       "2020-03-15             676.0            6.0  -2.062134        0.098692   \n",
       "2020-03-16             872.0           14.0  -1.841855        0.220279   \n",
       "\n",
       "            grocery_US  grocery_US_diff   parks_US  parks_US_diff  \\\n",
       "Date                                                                \n",
       "2020-03-12   22.720821        11.653862  27.285120      -7.292266   \n",
       "2020-03-13   25.283834         2.563012  12.217885     -15.067236   \n",
       "2020-03-14   18.225341        -7.058493  12.997491       0.779606   \n",
       "2020-03-15   16.525736        -1.699605  17.774478       4.776987   \n",
       "2020-03-16   24.997330         8.471594   8.546993      -9.227485   \n",
       "\n",
       "            transit_google_US  transit_google_US_diff  ...  \\\n",
       "Date                                                   ...   \n",
       "2020-03-12           3.783693               -0.742964  ...   \n",
       "2020-03-13          -0.098021               -3.881714  ...   \n",
       "2020-03-14          -1.399180               -1.301159  ...   \n",
       "2020-03-15          -2.441142               -1.041962  ...   \n",
       "2020-03-16          -7.109609               -4.668467  ...   \n",
       "\n",
       "            sbj18_count_weighted  sbj18_favourites_weighted  \\\n",
       "Date                                                          \n",
       "2020-03-12             30.366361              514516.320753   \n",
       "2020-03-13             51.415687              836270.520446   \n",
       "2020-03-14             30.026926              412672.078334   \n",
       "2020-03-15             34.589109              614574.186140   \n",
       "2020-03-16             41.989440              500040.190409   \n",
       "\n",
       "            sbj18_retweet_weighted  sbj18_popularity_weighted  \\\n",
       "Date                                                            \n",
       "2020-03-12               45.712579              517724.963144   \n",
       "2020-03-13               48.754029              839692.647253   \n",
       "2020-03-14               35.293293              415149.373605   \n",
       "2020-03-15               39.893033              617374.344831   \n",
       "2020-03-16               36.960089              502634.480863   \n",
       "\n",
       "            sbj18_engagement_weighted  sbj19_count_weighted  \\\n",
       "Date                                                          \n",
       "2020-03-12                 783.021048             27.048881   \n",
       "2020-03-13                 968.619367             59.714706   \n",
       "2020-03-14                 498.918563             33.665548   \n",
       "2020-03-15                 511.806045             37.896720   \n",
       "2020-03-16                 650.507595             39.237705   \n",
       "\n",
       "            sbj19_favourites_weighted  sbj19_retweet_weighted  \\\n",
       "Date                                                            \n",
       "2020-03-12              517553.563224               32.312411   \n",
       "2020-03-13              798435.590596               48.365220   \n",
       "2020-03-14              952106.469811               54.937148   \n",
       "2020-03-15              675710.595514               45.739917   \n",
       "2020-03-16              546805.424915               39.925328   \n",
       "\n",
       "            sbj19_popularity_weighted  sbj19_engagement_weighted  \n",
       "Date                                                              \n",
       "2020-03-12              519821.625393                 539.441568  \n",
       "2020-03-13              801830.426310                1060.201632  \n",
       "2020-03-14              955962.600118                 529.734021  \n",
       "2020-03-15              678921.156824                 733.813344  \n",
       "2020-03-16              549607.850484                 705.573526  \n",
       "\n",
       "[5 rows x 300 columns]"
      ]
     },
     "execution_count": 43,
     "metadata": {},
     "output_type": "execute_result"
    }
   ],
   "source": [
    "analysis_df = pd.read_csv('data/total_analysis_df.csv')\n",
    "analysis_df['Date'] = pd.to_datetime(analysis_df['Date'])\n",
    "analysis_df = analysis_df.set_index('Date')\n",
    "analysis_df.head()"
   ]
  },
  {
   "cell_type": "code",
   "execution_count": 44,
   "metadata": {},
   "outputs": [],
   "source": [
    "covid_columns = ['Confirmed_new_US', 'Deaths_new_US']\n",
    "mobility_columns = [col for col in analysis_df.columns if 'US' in col and col not in covid_columns and 'diff' not in col]\n",
    "cluster_titles = ['home', 'sanitisers', 'isolation', 'distance', 'family', 'masks', 'washhands', 'workhome', 'health', 'total']\n",
    "metrics = ['_count', '_popularity']\n",
    "cluster_columns = ['cluster_' + title + metric for title in cluster_titles for metric in metrics]\n",
    "sbjs = ['sbj' + str(i) for i in range(20)]\n",
    "sbjs10 = ['sbj' + str(i) for i in range(10)]\n",
    "sbjs20 = ['sbj' + str(i) for i in range(10, 20)]\n",
    "clusts = ['clust' + str(i) for i in range(5)]\n",
    "sbj_columns = [title + metric for title in sbjs for metric in metrics]\n",
    "sbj10_columns = [title + metric for title in sbjs10 for metric in metrics]\n",
    "sbj20_columns = [title + metric for title in sbjs20 for metric in metrics]\n",
    "clust_columns = [title + metric for title in clusts for metric in metrics]\n",
    "metrics = ['_count_weighted', '_favourites_weighted', '_retweet_weighted', '_popularity_weighted', '_engagement_weighted']\n",
    "weighted_sbj_columns = [title + metric for title in sbjs for metric in metrics]"
   ]
  },
  {
   "cell_type": "code",
   "execution_count": 45,
   "metadata": {},
   "outputs": [],
   "source": [
    "stable_analysis_df = analysis_df.loc[(analysis_df.index > '2020-03-19') & (analysis_df.index < '2020-05-01')]"
   ]
  },
  {
   "cell_type": "code",
   "execution_count": 47,
   "metadata": {},
   "outputs": [],
   "source": [
    "def mape(y_true, y_pred):\n",
    "    return round(np.mean(np.abs((y_true - y_pred) / y_true)) * 100, 3)"
   ]
  },
  {
   "cell_type": "code",
   "execution_count": 48,
   "metadata": {},
   "outputs": [],
   "source": [
    "# TOPIC 0 - LOCAL GOVERNMENT"
   ]
  },
  {
   "cell_type": "code",
   "execution_count": 119,
   "metadata": {},
   "outputs": [],
   "source": [
    "test_size = 4\n",
    "# variable_title = 'sbj11_engagement_weighted'\n",
    "variable_title = 'sbj0_engagement_weighted'\n",
    "\n",
    "variable = stable_analysis_df[variable_title]\n",
    "# exog_titles = ['Confirmed_new_US', 'Deaths_new_US', 'work_US', 'transit_google_US']\n",
    "exog_titles = ['Confirmed_new_US', 'Deaths_new_US', 'transit_apple_US', 'transit_google_US', 'work_US', 'grocery_US']\n",
    "exog = stable_analysis_df[exog_titles]"
   ]
  },
  {
   "cell_type": "code",
   "execution_count": 120,
   "metadata": {},
   "outputs": [
    {
     "name": "stdout",
     "output_type": "stream",
     "text": [
      "Dickey-Fuller test: p=0.073349\n",
      "Student test: p=0.000000\n"
     ]
    }
   ],
   "source": [
    "print(\"Dickey-Fuller test: p=%f\" % sm.tsa.stattools.adfuller(variable)[1])\n",
    "print(\"Student test: p=%f\" % stats.ttest_1samp(variable, 0)[1])"
   ]
  },
  {
   "cell_type": "code",
   "execution_count": 121,
   "metadata": {},
   "outputs": [],
   "source": [
    "dates_index = variable.index\n",
    "variable_sub = pd.Series(gaussian_filter(variable, sigma=1)).to_frame().set_index([dates_index])[0]\n",
    "\n",
    "train, test_data = variable_sub[0:len(variable_sub)-test_size], variable_sub[len(variable_sub)-test_size:]\n",
    "\n",
    "exog_train = exog[:len(exog) - test_size]\n",
    "exog_test = exog[len(exog) - test_size:]"
   ]
  },
  {
   "cell_type": "code",
   "execution_count": 52,
   "metadata": {},
   "outputs": [
    {
     "name": "stdout",
     "output_type": "stream",
     "text": [
      "Number of analysed models: 50\n",
      "  parameters         aic\n",
      "8  (1, 1, 4)  372.198193\n",
      "7  (1, 1, 3)  379.122297\n",
      "6  (0, 1, 4)  383.327933\n",
      "5  (0, 1, 3)  390.744680\n",
      "4  (0, 1, 1)  394.626715\n"
     ]
    }
   ],
   "source": [
    "# LOCAL GOVERNMENT 0 WITH EXOG TRAIN\n",
    "\n",
    "ps = range(0, 5)\n",
    "ds  = range(0, 2)\n",
    "qs = range(0, 5)\n",
    "\n",
    "parameters = product(ps, ds, qs)\n",
    "parameters_list = list(parameters)\n",
    "print (\"Number of analysed models:\", len(parameters_list))\n",
    "results = []\n",
    "best_aic = float(\"inf\")\n",
    "\n",
    "for param in parameters_list:\n",
    "    try:\n",
    "        model = ARIMA(train.values, order=(param[0], param[1], param[2]), exog=exog_train).fit()\n",
    "    except LinAlgError:\n",
    "        continue\n",
    "    except ValueError:\n",
    "        continue\n",
    "    aic = model.aic\n",
    "    if aic < best_aic:\n",
    "        best_model = model\n",
    "        best_aic = aic\n",
    "        best_param = param\n",
    "        results.append([param, model.aic])\n",
    "\n",
    "result_table = pd.DataFrame(results)\n",
    "result_table.columns = ['parameters', 'aic']\n",
    "print(result_table.sort_values(by = 'aic', ascending=True).head())"
   ]
  },
  {
   "cell_type": "code",
   "execution_count": 122,
   "metadata": {},
   "outputs": [
    {
     "name": "stdout",
     "output_type": "stream",
     "text": [
      "For 1 days prediction Test MAPE: 3.2730000\n",
      "For 2 days prediction Test MAPE: 2.6260000\n",
      "For 3 days prediction Test MAPE: 6.0680000\n",
      "For 4 days prediction Test MAPE: 12.1750000\n"
     ]
    }
   ],
   "source": [
    "# LOCAL GOVERNMENT 0 WITH EXOG TEST\n",
    "\n",
    "# best_param = (1, 1, 4)\n",
    "best_param = (2, 1, 1)\n",
    "model_fit=ARIMA(train.values, order=(best_param[0], best_param[1], best_param[2]), exog=exog_train).fit()\n",
    "forecast = model_fit.forecast(steps=test_size, exog=exog_test)\n",
    "predictions_1 = list(forecast)[0]\n",
    "train_with_predicted = list(train)\n",
    "for i in predictions_1:\n",
    "    train_with_predicted.append(i)\n",
    "\n",
    "test_lag = len(test_data)\n",
    "test_real = test_data\n",
    "for j in range(1, len(test_data) + 1):\n",
    "        test_lag = j\n",
    "        t_mape = mape(test_data[:test_lag], predictions_1[:test_lag])\n",
    "        print('For %d days prediction Test MAPE: %.7f' % (j, t_mape))"
   ]
  },
  {
   "cell_type": "code",
   "execution_count": 54,
   "metadata": {},
   "outputs": [
    {
     "name": "stdout",
     "output_type": "stream",
     "text": [
      "Number of analysed models: 50\n",
      "  parameters         aic\n",
      "6  (1, 1, 4)  381.222437\n",
      "5  (0, 1, 2)  381.573092\n",
      "4  (0, 1, 1)  394.667084\n",
      "3  (0, 1, 0)  426.085062\n",
      "2  (0, 0, 4)  433.465960\n"
     ]
    }
   ],
   "source": [
    "# LOCAL GOVERNMENT 0 WITHOUT EXOG TRAIN\n",
    "\n",
    "ps = range(0, 5)\n",
    "ds  = range(0, 2)\n",
    "qs = range(0, 5)\n",
    "\n",
    "parameters = product(ps, ds, qs)\n",
    "parameters_list = list(parameters)\n",
    "print (\"Number of analysed models:\", len(parameters_list))\n",
    "results = []\n",
    "best_aic = float(\"inf\")\n",
    "\n",
    "for param in parameters_list:\n",
    "    try:\n",
    "        model = ARIMA(train.values, order=(param[0], param[1], param[2])).fit()\n",
    "    except LinAlgError:\n",
    "        continue\n",
    "    except ValueError:\n",
    "        continue\n",
    "    aic = model.aic\n",
    "    if aic < best_aic:\n",
    "        best_model = model\n",
    "        best_aic = aic\n",
    "        best_param = param\n",
    "        results.append([param, model.aic])\n",
    "\n",
    "result_table = pd.DataFrame(results)\n",
    "result_table.columns = ['parameters', 'aic']\n",
    "print(result_table.sort_values(by = 'aic', ascending=True).head())"
   ]
  },
  {
   "cell_type": "code",
   "execution_count": 123,
   "metadata": {
    "scrolled": true
   },
   "outputs": [
    {
     "name": "stdout",
     "output_type": "stream",
     "text": [
      "For 1 days prediction Test MAPE: 8.1770000\n",
      "For 2 days prediction Test MAPE: 11.9980000\n",
      "For 3 days prediction Test MAPE: 12.0690000\n",
      "For 4 days prediction Test MAPE: 10.5250000\n"
     ]
    }
   ],
   "source": [
    "# LOCAL GOVERNMENT 0 WITHOUT EXOG TEST\n",
    "\n",
    "# best_param = (1, 1, 4)\n",
    "best_param = (2, 1, 1)\n",
    "model_fit=ARIMA(train.values, order=(best_param[0], best_param[1], best_param[2])).fit()\n",
    "forecast = model_fit.forecast(steps=test_size)\n",
    "predictions_2 = list(forecast)[0]\n",
    "train_with_predicted = list(train)\n",
    "for i in predictions_2:\n",
    "    train_with_predicted.append(i)\n",
    "\n",
    "test_lag = len(test_data)\n",
    "test_real = test_data\n",
    "for j in range(1, len(test_data) + 1):\n",
    "        test_lag = j\n",
    "        t_mape = mape(test_data[:test_lag], predictions_2[:test_lag])\n",
    "        print('For %d days prediction Test MAPE: %.7f' % (j, t_mape))"
   ]
  },
  {
   "cell_type": "code",
   "execution_count": 124,
   "metadata": {},
   "outputs": [],
   "source": [
    "# PREPARE FOR PLOT LOCAL GOVERNMENT 0 WITH/WITHOUT EXOG LISTS\n",
    "\n",
    "last_value = list(train)[len(train) - 1]\n",
    "test_list = list(test_data)\n",
    "test_list.insert(0, last_value)\n",
    "predictions_1=np.insert(predictions_1,0,last_value)\n",
    "predictions_2=np.insert(predictions_2,0,last_value)\n",
    "new_index = pd.Index([train.index[-1]]).append(test_data.index)"
   ]
  },
  {
   "cell_type": "code",
   "execution_count": 57,
   "metadata": {},
   "outputs": [
    {
     "data": {
      "text/plain": [
       "[467.93967922367835,\n",
       " 485.7031878079571,\n",
       " 482.90050865145247,\n",
       " 442.8304581570984,\n",
       " 352.3932231050763]"
      ]
     },
     "execution_count": 57,
     "metadata": {},
     "output_type": "execute_result"
    }
   ],
   "source": [
    "test_list"
   ]
  },
  {
   "cell_type": "code",
   "execution_count": 126,
   "metadata": {},
   "outputs": [
    {
     "data": {
      "image/png": "[encoded data removed]",
      "text/plain": [
       "<Figure size 720x432 with 1 Axes>"
      ]
     },
     "metadata": {
      "needs_background": "light"
     },
     "output_type": "display_data"
    }
   ],
   "source": [
    "# PLOT LOCAL GOVERNMENT 0 WITH/WITHOUT EXOG TOGETHER\n",
    "\n",
    "plt.figure(figsize=(10,6))\n",
    "plt.plot(train)\n",
    "plt.plot(new_index, test_list, label=\"expected\")\n",
    "plt.plot(new_index, predictions_1, color='green', label=\"predicted with exog\")\n",
    "plt.plot(new_index, predictions_2, color='red', label=\"predicted without exog\")\n",
    "plt.xlabel('Date', fontsize=14)\n",
    "plt.ylabel('Value', fontsize=14)\n",
    "# plt.title('Topic \"Memes, getting bored\" engagement', fontsize=14)\n",
    "plt.title('Topic \"Local government\" engagement', fontsize=14)\n",
    "plt.xticks(rotation=45)\n",
    "plt.legend()\n",
    "plt.grid(True)\n",
    "plt.show()"
   ]
  },
  {
   "cell_type": "code",
   "execution_count": 59,
   "metadata": {},
   "outputs": [],
   "source": [
    "#####################################################################################################################"
   ]
  },
  {
   "cell_type": "code",
   "execution_count": 60,
   "metadata": {},
   "outputs": [],
   "source": [
    "# TOPIC 16 - VIRUS TEST\n",
    "test_size = 9\n",
    "variable_16_title = 'sbj16_popularity_weighted'\n",
    "variable_16 = stable_analysis_df[variable_16_title]"
   ]
  },
  {
   "cell_type": "code",
   "execution_count": 61,
   "metadata": {},
   "outputs": [
    {
     "name": "stdout",
     "output_type": "stream",
     "text": [
      "Dickey-Fuller test: p=0.469761\n",
      "Student test: p=0.000000\n"
     ]
    }
   ],
   "source": [
    "print(\"Dickey-Fuller test: p=%f\" % sm.tsa.stattools.adfuller(variable_16)[1])\n",
    "print(\"Student test: p=%f\" % stats.ttest_1samp(variable_16, 0)[1]) "
   ]
  },
  {
   "cell_type": "code",
   "execution_count": 62,
   "metadata": {},
   "outputs": [
    {
     "name": "stdout",
     "output_type": "stream",
     "text": [
      "Dickey-Fuller test: p=0.000000\n"
     ]
    }
   ],
   "source": [
    "diff_variable_16 = variable_16 - variable_16.shift(1)\n",
    "print(\"Dickey-Fuller test: p=%f\" % sm.tsa.stattools.adfuller(diff_variable_16[1:])[1])"
   ]
  },
  {
   "cell_type": "code",
   "execution_count": 63,
   "metadata": {},
   "outputs": [],
   "source": [
    "variable_16_sub = pd.Series(gaussian_filter(variable_16, sigma=1)).to_frame().set_index([dates_index])[0]\n",
    "train_16, test_data_16 = variable_16_sub[0:len(variable_16_sub)-test_size], variable_16_sub[len(variable_16_sub)-test_size:]"
   ]
  },
  {
   "cell_type": "code",
   "execution_count": 64,
   "metadata": {},
   "outputs": [],
   "source": [
    "exog_titles = ['Confirmed_new_US', 'Deaths_new_US', 'transit_google_US'] # 'work_US', 'grocery_US'\n",
    "exog = stable_analysis_df[exog_titles]\n",
    "exog_train = exog[:len(exog) - test_size]\n",
    "exog_test = exog[len(exog) - test_size:]"
   ]
  },
  {
   "cell_type": "code",
   "execution_count": 65,
   "metadata": {},
   "outputs": [
    {
     "name": "stdout",
     "output_type": "stream",
     "text": [
      "Number of analysed models: 25\n",
      "  parameters         aic\n",
      "1     (0, 1)  856.215710\n",
      "0     (0, 0)  875.093165\n"
     ]
    }
   ],
   "source": [
    "# VIRUS 16 WITH EXOG TRAIN\n",
    "\n",
    "ps = range(0, 5)\n",
    "d  = 1\n",
    "qs = range(0, 5)\n",
    "\n",
    "parameters = product(ps, qs)\n",
    "parameters_list = list(parameters)\n",
    "print (\"Number of analysed models:\", len(parameters_list))\n",
    "results = []\n",
    "best_aic = float(\"inf\")\n",
    "for param in parameters_list:\n",
    "    try:\n",
    "        model = ARIMA(train_16.values, order=(param[0], d, param[1]), exog=exog_train).fit()\n",
    "    except LinAlgError:\n",
    "        continue\n",
    "    except ValueError:\n",
    "        continue\n",
    "    aic = model.aic\n",
    "    if aic < best_aic:\n",
    "        best_model = model\n",
    "        best_aic = aic\n",
    "        best_param = param\n",
    "        results.append([param, model.aic])\n",
    "result_table = pd.DataFrame(results)\n",
    "result_table.columns = ['parameters', 'aic']\n",
    "print(result_table.sort_values(by = 'aic', ascending=True).head())"
   ]
  },
  {
   "cell_type": "code",
   "execution_count": 66,
   "metadata": {},
   "outputs": [
    {
     "name": "stdout",
     "output_type": "stream",
     "text": [
      "For 1 days prediction Test MAPE: 1.2800000\n",
      "For 2 days prediction Test MAPE: 1.7560000\n",
      "For 3 days prediction Test MAPE: 2.4330000\n",
      "For 4 days prediction Test MAPE: 5.6780000\n",
      "For 5 days prediction Test MAPE: 4.7610000\n",
      "For 6 days prediction Test MAPE: 5.7870000\n",
      "For 7 days prediction Test MAPE: 6.0320000\n",
      "For 8 days prediction Test MAPE: 10.1030000\n",
      "For 9 days prediction Test MAPE: 16.2920000\n"
     ]
    }
   ],
   "source": [
    "# VIRUS 16 WITH EXOG TEST\n",
    "\n",
    "best_params = [(0, 1, 1)]\n",
    "train_sets = [train_16]\n",
    "test_sets = [test_data_16]\n",
    "predictions_list = []\n",
    "for i in range(len(train_sets)):\n",
    "    model_fit=ARIMA(train_sets[i].values, order=(best_params[i][0], best_params[i][1], best_params[i][2]), exog=exog_train).fit()\n",
    "    forecast = model_fit.forecast(steps=test_size, exog=exog_test)\n",
    "    predictions_1 = list(forecast)[0]\n",
    "    predictions_list.append(predictions_1)\n",
    "    train_with_predicted = list(train_sets[i])\n",
    "    for k in predictions_1:\n",
    "        train_with_predicted.append(k)\n",
    "    test_real = test_sets[i]\n",
    "    for j in range(1, len(test_sets[i]) + 1):\n",
    "        test_lag = j\n",
    "        t_mape = mape(test_real[:test_lag], predictions_1[:test_lag])\n",
    "        print('For %d days prediction Test MAPE: %.7f' % (j, t_mape))"
   ]
  },
  {
   "cell_type": "code",
   "execution_count": 67,
   "metadata": {},
   "outputs": [
    {
     "name": "stdout",
     "output_type": "stream",
     "text": [
      "Number of analysed models: 25\n",
      "  parameters         aic\n",
      "2     (0, 2)  847.423897\n",
      "1     (0, 1)  855.100769\n",
      "0     (0, 0)  882.604145\n"
     ]
    }
   ],
   "source": [
    "# VIRUS 16 WITHOUT EXOG TRAIN\n",
    "\n",
    "ps = range(0, 5)\n",
    "d  = 1\n",
    "qs = range(0, 5)\n",
    "\n",
    "parameters = product(ps, qs)\n",
    "parameters_list = list(parameters)\n",
    "print (\"Number of analysed models:\", len(parameters_list))\n",
    "results = []\n",
    "best_aic = float(\"inf\")\n",
    "for param in parameters_list:\n",
    "    try:\n",
    "        model = ARIMA(train_16.values, order=(param[0], d, param[1])).fit()\n",
    "    except LinAlgError:\n",
    "        continue\n",
    "    except ValueError:\n",
    "        continue\n",
    "    aic = model.aic\n",
    "    if aic < best_aic:\n",
    "        best_model = model\n",
    "        best_aic = aic\n",
    "        best_param = param\n",
    "        results.append([param, model.aic])\n",
    "result_table = pd.DataFrame(results)\n",
    "result_table.columns = ['parameters', 'aic']\n",
    "print(result_table.sort_values(by = 'aic', ascending=True).head())"
   ]
  },
  {
   "cell_type": "code",
   "execution_count": 68,
   "metadata": {},
   "outputs": [
    {
     "name": "stdout",
     "output_type": "stream",
     "text": [
      "For 1 days prediction Test MAPE: 4.9650000\n",
      "For 2 days prediction Test MAPE: 6.7970000\n",
      "For 3 days prediction Test MAPE: 10.8260000\n",
      "For 4 days prediction Test MAPE: 16.0390000\n",
      "For 5 days prediction Test MAPE: 16.0690000\n",
      "For 6 days prediction Test MAPE: 13.8650000\n",
      "For 7 days prediction Test MAPE: 11.8900000\n",
      "For 8 days prediction Test MAPE: 11.7420000\n",
      "For 9 days prediction Test MAPE: 12.9540000\n"
     ]
    }
   ],
   "source": [
    "# VIRUS 16 WITHOUT EXOG TEST\n",
    "\n",
    "best_params = [(0, 1, 2)]\n",
    "train_sets = [train_16]\n",
    "test_sets = [test_data_16]\n",
    "predictions_list = []\n",
    "for i in range(len(train_sets)):\n",
    "    model_fit=ARIMA(train_sets[i].values, order=(best_params[i][0], best_params[i][1], best_params[i][2])).fit()\n",
    "    forecast = model_fit.forecast(steps=test_size)\n",
    "    predictions_2 = list(forecast)[0]\n",
    "    predictions_list.append(predictions_2)\n",
    "    train_with_predicted = list(train_sets[i])\n",
    "    for k in predictions_2:\n",
    "        train_with_predicted.append(k)\n",
    "    test_real = test_sets[i]\n",
    "    for j in range(1, len(test_sets[i]) + 1):\n",
    "        test_lag = j\n",
    "        t_mape = mape(test_real[:test_lag], predictions_2[:test_lag])\n",
    "        print('For %d days prediction Test MAPE: %.7f' % (j, t_mape))"
   ]
  },
  {
   "cell_type": "code",
   "execution_count": 69,
   "metadata": {},
   "outputs": [],
   "source": [
    "# PREPARE FOR PLOT VIRUS 16 WITH/WITHOUT EXOG LISTS\n",
    "\n",
    "last_value = list(train_16)[len(train_16) - 1]\n",
    "test_list = list(test_data_16[:4])\n",
    "test_list.insert(0, last_value)\n",
    "predictions_1=np.insert(predictions_1[:4],0,last_value)\n",
    "predictions_2=np.insert(predictions_2[:4],0,last_value)\n",
    "new_index = pd.Index([train_16.index[-1]]).append(test_data_16[:4].index)"
   ]
  },
  {
   "cell_type": "code",
   "execution_count": 70,
   "metadata": {},
   "outputs": [
    {
     "data": {
      "image/png": "[encoded data removed]",
      "text/plain": [
       "<Figure size 720x432 with 1 Axes>"
      ]
     },
     "metadata": {
      "needs_background": "light"
     },
     "output_type": "display_data"
    }
   ],
   "source": [
    "plt.figure(figsize=(10,6))\n",
    "plt.plot(train_16)\n",
    "plt.plot(new_index, test_list, label=\"expected\")\n",
    "plt.plot(new_index, predictions_1, color='green', label=\"predicted with exog\")\n",
    "plt.plot(new_index, predictions_2, color='red', label=\"predicted without exog\")\n",
    "plt.xlabel('Date', fontsize=14)\n",
    "plt.ylabel('Value', fontsize=14)\n",
    "plt.title('Topic \"Virus diagnostics\" popularity', fontsize=14)\n",
    "plt.xticks(rotation=45)\n",
    "plt.legend()\n",
    "plt.grid(True)\n",
    "plt.show()"
   ]
  },
  {
   "cell_type": "code",
   "execution_count": 71,
   "metadata": {},
   "outputs": [],
   "source": [
    "#####################################################################################################################"
   ]
  },
  {
   "cell_type": "code",
   "execution_count": 72,
   "metadata": {},
   "outputs": [],
   "source": [
    "# TOPIC 8 - SALARY\n",
    "test_size = 6\n",
    "variable_8_title = 'sbj8_popularity_weighted'\n",
    "variable_8 = stable_analysis_df[variable_8_title]"
   ]
  },
  {
   "cell_type": "code",
   "execution_count": 73,
   "metadata": {},
   "outputs": [
    {
     "name": "stdout",
     "output_type": "stream",
     "text": [
      "Dickey-Fuller test: p=0.069362\n",
      "Student test: p=0.000000\n"
     ]
    }
   ],
   "source": [
    "print(\"Dickey-Fuller test: p=%f\" % sm.tsa.stattools.adfuller(variable_8)[1])\n",
    "print(\"Student test: p=%f\" % stats.ttest_1samp(variable_8, 0)[1])"
   ]
  },
  {
   "cell_type": "code",
   "execution_count": 74,
   "metadata": {},
   "outputs": [
    {
     "name": "stdout",
     "output_type": "stream",
     "text": [
      "Dickey-Fuller test: p=0.000000\n"
     ]
    }
   ],
   "source": [
    "diff_variable_8 = variable_8 - variable_8.shift(1)\n",
    "print(\"Dickey-Fuller test: p=%f\" % sm.tsa.stattools.adfuller(diff_variable_8[1:])[1])"
   ]
  },
  {
   "cell_type": "code",
   "execution_count": 75,
   "metadata": {},
   "outputs": [],
   "source": [
    "variable_8_sub = pd.Series(gaussian_filter(variable_8, sigma=1)).to_frame().set_index([dates_index])[0]\n",
    "train_8, test_data_8 = variable_8_sub[0:len(variable_8_sub)-test_size], variable_8_sub[len(variable_8_sub)-test_size:]"
   ]
  },
  {
   "cell_type": "code",
   "execution_count": 76,
   "metadata": {},
   "outputs": [],
   "source": [
    "exog_titles = ['Confirmed_new_US', 'Deaths_new_US', 'work_US', 'transit_google_US', 'grocery_US'] \n",
    "exog = stable_analysis_df[exog_titles]\n",
    "exog_train = exog[:len(exog) - test_size]\n",
    "exog_test = exog[len(exog) - test_size:]"
   ]
  },
  {
   "cell_type": "code",
   "execution_count": 77,
   "metadata": {},
   "outputs": [
    {
     "name": "stdout",
     "output_type": "stream",
     "text": [
      "Number of analysed models: 25\n",
      "  parameters         aic\n",
      "2     (0, 4)  878.085494\n",
      "1     (0, 1)  886.777076\n",
      "0     (0, 0)  906.455323\n"
     ]
    }
   ],
   "source": [
    "# SALARY 8 WITH EXOG TRAIN\n",
    "\n",
    "ps = range(0, 5)\n",
    "d  = 1\n",
    "qs = range(0, 5)\n",
    "\n",
    "parameters = product(ps, qs)\n",
    "parameters_list = list(parameters)\n",
    "print (\"Number of analysed models:\", len(parameters_list))\n",
    "results = []\n",
    "best_aic = float(\"inf\")\n",
    "for param in parameters_list:\n",
    "    try:\n",
    "        model = ARIMA(train_8.values, order=(param[0], d, param[1]), exog=exog_train).fit()\n",
    "    except LinAlgError:\n",
    "        continue\n",
    "    except ValueError:\n",
    "        continue\n",
    "    aic = model.aic\n",
    "    if aic < best_aic:\n",
    "        best_model = model\n",
    "        best_aic = aic\n",
    "        best_param = param\n",
    "        results.append([param, model.aic])\n",
    "result_table = pd.DataFrame(results)\n",
    "result_table.columns = ['parameters', 'aic']\n",
    "print(result_table.sort_values(by = 'aic', ascending=True).head())"
   ]
  },
  {
   "cell_type": "code",
   "execution_count": 93,
   "metadata": {},
   "outputs": [
    {
     "name": "stdout",
     "output_type": "stream",
     "text": [
      "For 1 days prediction Test MAPE: 5.9130000\n",
      "For 2 days prediction Test MAPE: 5.4040000\n",
      "For 3 days prediction Test MAPE: 7.5400000\n",
      "For 4 days prediction Test MAPE: 18.9110000\n",
      "For 5 days prediction Test MAPE: 34.1110000\n",
      "For 6 days prediction Test MAPE: 49.4850000\n"
     ]
    }
   ],
   "source": [
    "# SALARY 8 WITH EXOG TEST\n",
    "\n",
    "# (0, 1, 4) - 6 test_size - 'Confirmed_new_US', 'Deaths_new_US', 'work_US', 'transit_google_US', 'grocery_US'] \n",
    "# (4, 1, 1) - 6 - 'Confirmed_new_US', 'Deaths_new_US', 'work_US', 'transit_google_US'\n",
    "best_params = [(0, 1, 4)]\n",
    "train_sets = [train_8]\n",
    "test_sets = [test_data_8]\n",
    "predictions_list = []\n",
    "for i in range(len(train_sets)):\n",
    "    model_fit=ARIMA(train_sets[i].values, order=(best_params[i][0], best_params[i][1], best_params[i][2]), exog=exog_train).fit()\n",
    "    forecast = model_fit.forecast(steps=test_size, exog=exog_test)\n",
    "    predictions_1 = list(forecast)[0]\n",
    "    predictions_list.append(predictions_1)\n",
    "    train_with_predicted = list(train_sets[i])\n",
    "    for k in predictions_1:\n",
    "        train_with_predicted.append(k)\n",
    "    test_real = test_sets[i]\n",
    "    for j in range(1, len(test_sets[i]) + 1):\n",
    "        test_lag = j\n",
    "        t_mape = mape(test_real[:test_lag], predictions_1[:test_lag])\n",
    "        print('For %d days prediction Test MAPE: %.7f' % (j, t_mape))"
   ]
  },
  {
   "cell_type": "code",
   "execution_count": 91,
   "metadata": {},
   "outputs": [
    {
     "name": "stdout",
     "output_type": "stream",
     "text": [
      "Number of analysed models: 25\n",
      "  parameters         aic\n",
      "4     (2, 1)  874.984360\n",
      "3     (0, 4)  879.897049\n",
      "2     (0, 2)  882.342703\n",
      "1     (0, 1)  884.473980\n",
      "0     (0, 0)  906.469553\n"
     ]
    }
   ],
   "source": [
    "# SALARY 8 WITHOUT EXOG TRAIN\n",
    "\n",
    "ps = range(0, 5)\n",
    "d  = 1\n",
    "qs = range(0, 5)\n",
    "\n",
    "parameters = product(ps, qs)\n",
    "parameters_list = list(parameters)\n",
    "print (\"Number of analysed models:\", len(parameters_list))\n",
    "results = []\n",
    "best_aic = float(\"inf\")\n",
    "for param in parameters_list:\n",
    "    try:\n",
    "        model = ARIMA(train_8.values, order=(param[0], d, param[1])).fit()\n",
    "    except LinAlgError:\n",
    "        continue\n",
    "    except ValueError:\n",
    "        continue\n",
    "    aic = model.aic\n",
    "    if aic < best_aic:\n",
    "        best_model = model\n",
    "        best_aic = aic\n",
    "        best_param = param\n",
    "        results.append([param, model.aic])\n",
    "result_table = pd.DataFrame(results)\n",
    "result_table.columns = ['parameters', 'aic']\n",
    "print(result_table.sort_values(by = 'aic', ascending=True).head())"
   ]
  },
  {
   "cell_type": "code",
   "execution_count": 92,
   "metadata": {},
   "outputs": [
    {
     "name": "stdout",
     "output_type": "stream",
     "text": [
      "For 1 days prediction Test MAPE: 18.8110000\n",
      "For 2 days prediction Test MAPE: 29.3670000\n",
      "For 3 days prediction Test MAPE: 33.5960000\n",
      "For 4 days prediction Test MAPE: 34.8970000\n",
      "For 5 days prediction Test MAPE: 36.2350000\n",
      "For 6 days prediction Test MAPE: 38.1430000\n"
     ]
    }
   ],
   "source": [
    "# SALARY 8 WITHOUT EXOG TEST\n",
    "\n",
    " # (2, 1, 1) - 6 test_size\n",
    "best_params = [(2, 1, 1)]\n",
    "train_sets = [train_8]\n",
    "test_sets = [test_data_8]\n",
    "predictions_list = []\n",
    "for i in range(len(train_sets)):\n",
    "    model_fit=ARIMA(train_sets[i].values, order=(best_params[i][0], best_params[i][1], best_params[i][2])).fit()\n",
    "    forecast = model_fit.forecast(steps=test_size)\n",
    "    predictions_2 = list(forecast)[0]\n",
    "    predictions_list.append(predictions_2)\n",
    "    train_with_predicted = list(train_sets[i])\n",
    "    for k in predictions_2:\n",
    "        train_with_predicted.append(k)\n",
    "    test_real = test_sets[i]\n",
    "    for j in range(1, len(test_sets[i]) + 1):\n",
    "        test_lag = j\n",
    "        t_mape = mape(test_real[:test_lag], predictions_2[:test_lag])\n",
    "        print('For %d days prediction Test MAPE: %.7f' % (j, t_mape))"
   ]
  },
  {
   "cell_type": "code",
   "execution_count": 96,
   "metadata": {},
   "outputs": [],
   "source": [
    "# PREPARE FOR PLOT SALARY 8 WITH/WITHOUT EXOG LISTS\n",
    "\n",
    "last_value = list(train_8)[len(train_8) - 1]\n",
    "test_list = list(test_data_8[:4])\n",
    "test_list.insert(0, last_value)\n",
    "predictions_1=np.insert(predictions_1[:4],0,last_value)\n",
    "predictions_2=np.insert(predictions_2[:4],0,last_value)\n",
    "new_index = pd.Index([train_8.index[-1]]).append(test_data_8[:4].index)"
   ]
  },
  {
   "cell_type": "code",
   "execution_count": 97,
   "metadata": {},
   "outputs": [
    {
     "data": {
      "image/png": "[encoded data removed]",
      "text/plain": [
       "<Figure size 720x432 with 1 Axes>"
      ]
     },
     "metadata": {
      "needs_background": "light"
     },
     "output_type": "display_data"
    }
   ],
   "source": [
    "plt.figure(figsize=(10,6))\n",
    "plt.plot(train_8)\n",
    "plt.plot(new_index, test_list, label=\"expected\")\n",
    "plt.plot(new_index, predictions_1, color='green', label=\"predicted with exog\")\n",
    "plt.plot(new_index, predictions_2, color='red', label=\"predicted without exog\")\n",
    "plt.xlabel('Date', fontsize=14)\n",
    "plt.ylabel('Value', fontsize=14)\n",
    "plt.title('Topic \"Salary\" popularity', fontsize=14)\n",
    "plt.xticks(rotation=45)\n",
    "plt.legend()\n",
    "plt.grid(True)\n",
    "plt.show()"
   ]
  },
  {
   "cell_type": "code",
   "execution_count": null,
   "metadata": {},
   "outputs": [],
   "source": [
    "#####################################################################################################################"
   ]
  },
  {
   "cell_type": "code",
   "execution_count": 98,
   "metadata": {},
   "outputs": [],
   "source": [
    "# TOPIC 3 - MUSIC\n",
    "test_size = 6\n",
    "variable_3_title = 'sbj3_engagement_weighted'\n",
    "variable_3 = stable_analysis_df[variable_3_title]"
   ]
  },
  {
   "cell_type": "code",
   "execution_count": 99,
   "metadata": {},
   "outputs": [
    {
     "name": "stdout",
     "output_type": "stream",
     "text": [
      "Dickey-Fuller test: p=0.009291\n",
      "Student test: p=0.000000\n"
     ]
    }
   ],
   "source": [
    "print(\"Dickey-Fuller test: p=%f\" % sm.tsa.stattools.adfuller(variable_3)[1])\n",
    "print(\"Student test: p=%f\" % stats.ttest_1samp(variable_3, 0)[1]) "
   ]
  },
  {
   "cell_type": "code",
   "execution_count": 100,
   "metadata": {},
   "outputs": [],
   "source": [
    "variable_3_sub = pd.Series(gaussian_filter(variable_3, sigma=1)).to_frame().set_index([dates_index])[0]\n",
    "train_3, test_data_3 = variable_3_sub[0:len(variable_3_sub)-test_size], variable_3_sub[len(variable_3_sub)-test_size:]"
   ]
  },
  {
   "cell_type": "code",
   "execution_count": 101,
   "metadata": {},
   "outputs": [],
   "source": [
    "exog_titles = ['Confirmed_new_US', 'Deaths_new_US', 'transit_google_US'] # 'work_US', 'grocery_US'\n",
    "exog = stable_analysis_df[exog_titles]\n",
    "exog_train = exog[:len(exog) - test_size]\n",
    "exog_test = exog[len(exog) - test_size:]"
   ]
  },
  {
   "cell_type": "code",
   "execution_count": 102,
   "metadata": {},
   "outputs": [
    {
     "name": "stdout",
     "output_type": "stream",
     "text": [
      "Number of analysed models: 75\n",
      "  parameters         aic\n",
      "7  (0, 1, 4)  353.931126\n",
      "6  (0, 1, 1)  354.480350\n",
      "5  (0, 1, 0)  374.548643\n",
      "4  (0, 0, 4)  419.610817\n",
      "3  (0, 0, 3)  421.289944\n"
     ]
    }
   ],
   "source": [
    "# MUSIC 3 WITH EXOG TRAIN\n",
    "\n",
    "ps = range(0, 5)\n",
    "ds  = range(0, 3)\n",
    "qs = range(0, 5)\n",
    "\n",
    "parameters = product(ps, ds, qs)\n",
    "parameters_list = list(parameters)\n",
    "print (\"Number of analysed models:\", len(parameters_list))\n",
    "train_sets = [train_3]\n",
    "for train_set in train_sets:\n",
    "    results = []\n",
    "    best_aic = float(\"inf\")\n",
    "    for param in parameters_list:\n",
    "        try:\n",
    "            model = ARIMA(train_set.values, order=(param[0], param[1], param[2]), exog=exog_train).fit()\n",
    "        except LinAlgError:\n",
    "            continue\n",
    "        except ValueError:\n",
    "            continue\n",
    "        aic = model.aic\n",
    "        if aic < best_aic:\n",
    "            best_model = model\n",
    "            best_aic = aic\n",
    "            best_param = param\n",
    "            results.append([param, model.aic])\n",
    "    result_table = pd.DataFrame(results)\n",
    "    result_table.columns = ['parameters', 'aic']\n",
    "    print(result_table.sort_values(by = 'aic', ascending=True).head())"
   ]
  },
  {
   "cell_type": "code",
   "execution_count": 103,
   "metadata": {},
   "outputs": [
    {
     "name": "stdout",
     "output_type": "stream",
     "text": [
      "For 1 days prediction Test MAPE: 1.0520000\n",
      "For 2 days prediction Test MAPE: 5.1260000\n",
      "For 3 days prediction Test MAPE: 3.8610000\n",
      "For 4 days prediction Test MAPE: 4.2340000\n",
      "For 5 days prediction Test MAPE: 5.3770000\n",
      "For 6 days prediction Test MAPE: 5.2570000\n"
     ]
    }
   ],
   "source": [
    "# MUSIC 3 WITH EXOG TEST\n",
    "\n",
    "best_params = [(0, 1, 4)]\n",
    "train_sets = [train_3]\n",
    "test_sets = [test_data_3]\n",
    "predictions_list = []\n",
    "for i in range(len(train_sets)):\n",
    "    model_fit=ARIMA(train_sets[i].values, order=(best_params[i][0], best_params[i][1], best_params[i][2]), exog=exog_train).fit()\n",
    "    forecast = model_fit.forecast(steps=test_size, exog=exog_test)\n",
    "    predictions_1 = list(forecast)[0]\n",
    "    predictions_list.append(predictions_1)\n",
    "    train_with_predicted = list(train_sets[i])\n",
    "    for k in predictions_1:\n",
    "        train_with_predicted.append(k)\n",
    "    test_real = test_sets[i]\n",
    "    for j in range(1, len(test_sets[i]) + 1):\n",
    "        test_lag = j\n",
    "        t_mape = mape(test_real[:test_lag], predictions_1[:test_lag])\n",
    "        print('For %d days prediction Test MAPE: %.7f' % (j, t_mape))"
   ]
  },
  {
   "cell_type": "code",
   "execution_count": 104,
   "metadata": {},
   "outputs": [
    {
     "name": "stdout",
     "output_type": "stream",
     "text": [
      "Number of analysed models: 75\n",
      "   parameters         aic\n",
      "10  (2, 2, 4)  348.823147\n",
      "9   (0, 2, 3)  350.415418\n",
      "8   (0, 2, 2)  350.810315\n",
      "7   (0, 2, 1)  359.524543\n",
      "6   (0, 1, 1)  359.878986\n"
     ]
    }
   ],
   "source": [
    "# MUSIC 3 WITHOUT EXOG TRAIN\n",
    "\n",
    "ps = range(0, 5)\n",
    "ds  = range(0, 3)\n",
    "qs = range(0, 5)\n",
    "\n",
    "parameters = product(ps, ds, qs)\n",
    "parameters_list = list(parameters)\n",
    "print (\"Number of analysed models:\", len(parameters_list))\n",
    "train_sets = [train_3]\n",
    "for train_set in train_sets:\n",
    "    results = []\n",
    "    best_aic = float(\"inf\")\n",
    "    for param in parameters_list:\n",
    "        try:\n",
    "            model = ARIMA(train_set.values, order=(param[0], param[1], param[2])).fit()\n",
    "        except LinAlgError:\n",
    "            continue\n",
    "        except ValueError:\n",
    "            continue\n",
    "        aic = model.aic\n",
    "        if aic < best_aic:\n",
    "            best_model = model\n",
    "            best_aic = aic\n",
    "            best_param = param\n",
    "            results.append([param, model.aic])\n",
    "    result_table = pd.DataFrame(results)\n",
    "    result_table.columns = ['parameters', 'aic']\n",
    "    print(result_table.sort_values(by = 'aic', ascending=True).head())"
   ]
  },
  {
   "cell_type": "code",
   "execution_count": 105,
   "metadata": {},
   "outputs": [
    {
     "name": "stdout",
     "output_type": "stream",
     "text": [
      "For 1 days prediction Test MAPE: 7.8640000\n",
      "For 2 days prediction Test MAPE: 12.1790000\n",
      "For 3 days prediction Test MAPE: 10.6710000\n",
      "For 4 days prediction Test MAPE: 9.2060000\n",
      "For 5 days prediction Test MAPE: 8.2680000\n",
      "For 6 days prediction Test MAPE: 9.0890000\n"
     ]
    }
   ],
   "source": [
    "# MUSIC 3 WITHOUT EXOG TEST\n",
    "\n",
    "best_params = [(2, 2, 4)]\n",
    "train_sets = [train_3]\n",
    "test_sets = [test_data_3]\n",
    "predictions_list = []\n",
    "for i in range(len(train_sets)):\n",
    "    model_fit=ARIMA(train_sets[i].values, order=(best_params[i][0], best_params[i][1], best_params[i][2])).fit()\n",
    "    forecast = model_fit.forecast(steps=test_size)\n",
    "    predictions_2 = list(forecast)[0]\n",
    "    predictions_list.append(predictions_2)\n",
    "    train_with_predicted = list(train_sets[i])\n",
    "    for k in predictions_2:\n",
    "        train_with_predicted.append(k)\n",
    "    test_real = test_sets[i]\n",
    "    for j in range(1, len(test_sets[i]) + 1):\n",
    "        test_lag = j\n",
    "        t_mape = mape(test_real[:test_lag], predictions_2[:test_lag])\n",
    "        print('For %d days prediction Test MAPE: %.7f' % (j, t_mape))"
   ]
  },
  {
   "cell_type": "code",
   "execution_count": 106,
   "metadata": {},
   "outputs": [],
   "source": [
    "# PREPARE FOR PLOT MUSIC 3 WITH/WITHOUT EXOG LISTS\n",
    "\n",
    "last_value = list(train_3)[len(train_3) - 1]\n",
    "test_list = list(test_data_3)\n",
    "test_list.insert(0, last_value)\n",
    "predictions_1=np.insert(predictions_1,0,last_value)\n",
    "predictions_2=np.insert(predictions_2,0,last_value)\n",
    "new_index = pd.Index([train_3.index[-1]]).append(test_data_3.index)"
   ]
  },
  {
   "cell_type": "code",
   "execution_count": 107,
   "metadata": {},
   "outputs": [
    {
     "data": {
      "image/png": "[encoded data removed]",
      "text/plain": [
       "<Figure size 720x432 with 1 Axes>"
      ]
     },
     "metadata": {
      "needs_background": "light"
     },
     "output_type": "display_data"
    }
   ],
   "source": [
    "plt.figure(figsize=(10,6))\n",
    "plt.plot(train_3)\n",
    "plt.plot(new_index, test_list, label=\"expected\")\n",
    "plt.plot(new_index, predictions_1, color='green', label=\"predicted with exog\")\n",
    "plt.plot(new_index, predictions_2, color='red', label=\"predicted without exog\")\n",
    "plt.xlabel('Date', fontsize=14)\n",
    "plt.ylabel('Value', fontsize=14)\n",
    "plt.title('Topic \"Music, concerts\" engagement', fontsize=14)\n",
    "plt.xticks(rotation=45)\n",
    "plt.legend()\n",
    "plt.grid(True)\n",
    "plt.show()"
   ]
  },
  {
   "cell_type": "code",
   "execution_count": null,
   "metadata": {},
   "outputs": [],
   "source": [
    "#####################################################################################################################"
   ]
  },
  {
   "cell_type": "code",
   "execution_count": null,
   "metadata": {},
   "outputs": [],
   "source": [
    "# TOPIC 5 - FINANCE\n",
    "test_size = 7\n",
    "variable_5_title = 'sbj5_engagement_weighted'\n",
    "variable_5 = stable_analysis_df[variable_5_title]"
   ]
  },
  {
   "cell_type": "code",
   "execution_count": null,
   "metadata": {},
   "outputs": [],
   "source": [
    "print(\"Dickey-Fuller test: p=%f\" % sm.tsa.stattools.adfuller(variable_5)[1])\n",
    "print(\"Student test: p=%f\" % stats.ttest_1samp(variable_5, 0)[1]) "
   ]
  },
  {
   "cell_type": "code",
   "execution_count": null,
   "metadata": {},
   "outputs": [],
   "source": [
    "diff_variable_5 = variable_5 - variable_5.shift(1)\n",
    "print(\"Dickey-Fuller test: p=%f\" % sm.tsa.stattools.adfuller(diff_variable_5[1:])[1])"
   ]
  },
  {
   "cell_type": "code",
   "execution_count": null,
   "metadata": {},
   "outputs": [],
   "source": [
    "variable_5_sub = pd.Series(gaussian_filter(variable_5, sigma=1)).to_frame().set_index([dates_index])[0]\n",
    "train_5, test_data_5 = variable_5_sub[0:len(variable_5_sub)-test_size], variable_5_sub[len(variable_5_sub)-test_size:]"
   ]
  },
  {
   "cell_type": "code",
   "execution_count": null,
   "metadata": {},
   "outputs": [],
   "source": [
    "exog_titles = ['Confirmed_new_US', 'Deaths_new_US', 'transit_google_US', 'work_US'] \n",
    "exog = stable_analysis_df[exog_titles]\n",
    "exog_train = exog[:len(exog) - test_size]\n",
    "exog_test = exog[len(exog) - test_size:]"
   ]
  },
  {
   "cell_type": "code",
   "execution_count": null,
   "metadata": {},
   "outputs": [],
   "source": [
    "# FINANCE 5 WITH EXOG TRAIN\n",
    "\n",
    "ps = range(0, 5)\n",
    "d  = 1\n",
    "qs = range(0, 5)\n",
    "\n",
    "parameters = product(ps, qs)\n",
    "parameters_list = list(parameters)\n",
    "print (\"Number of analysed models:\", len(parameters_list))\n",
    "results = []\n",
    "best_aic = float(\"inf\")\n",
    "for param in parameters_list:\n",
    "    try:\n",
    "        model = ARIMA(train_5.values, order=(param[0], d, param[1]), exog=exog_train).fit()\n",
    "    except LinAlgError:\n",
    "        continue\n",
    "    except ValueError:\n",
    "        continue\n",
    "    aic = model.aic\n",
    "    if aic < best_aic:\n",
    "        best_model = model\n",
    "        best_aic = aic\n",
    "        best_param = param\n",
    "        results.append([param, model.aic])\n",
    "result_table = pd.DataFrame(results)\n",
    "result_table.columns = ['parameters', 'aic']\n",
    "print(result_table.sort_values(by = 'aic', ascending=True).head())"
   ]
  },
  {
   "cell_type": "code",
   "execution_count": null,
   "metadata": {},
   "outputs": [],
   "source": [
    "# FINANCE 5 WITH EXOG TEST\n",
    "\n",
    "best_params = [(0, 1, 2)]\n",
    "train_sets = [train_5]\n",
    "test_sets = [test_data_5]\n",
    "predictions_list = []\n",
    "for i in range(len(train_sets)):\n",
    "    model_fit=ARIMA(train_sets[i].values, order=(best_params[i][0], best_params[i][1], best_params[i][2]), exog=exog_train).fit()\n",
    "    forecast = model_fit.forecast(steps=test_size, exog=exog_test)\n",
    "    predictions_1 = list(forecast)[0]\n",
    "    predictions_list.append(predictions_1)\n",
    "    train_with_predicted = list(train_sets[i])\n",
    "    for k in predictions_1:\n",
    "        train_with_predicted.append(k)\n",
    "    test_real = test_sets[i]\n",
    "    for j in range(1, len(test_sets[i]) + 1):\n",
    "        test_lag = j\n",
    "        t_mape = mape(test_real[:test_lag], predictions_1[:test_lag])\n",
    "        print('For %d days prediction Test MAPE: %.7f' % (j, t_mape))"
   ]
  },
  {
   "cell_type": "code",
   "execution_count": null,
   "metadata": {},
   "outputs": [],
   "source": [
    "# FINANCE 5 WITHOUT EXOG TRAIN\n",
    "\n",
    "ps = range(0, 5)\n",
    "d  = 1\n",
    "qs = range(0, 5)\n",
    "\n",
    "parameters = product(ps, qs)\n",
    "parameters_list = list(parameters)\n",
    "print (\"Number of analysed models:\", len(parameters_list))\n",
    "results = []\n",
    "best_aic = float(\"inf\")\n",
    "for param in parameters_list:\n",
    "    try:\n",
    "        model = ARIMA(train_5.values, order=(param[0], d, param[1])).fit()\n",
    "    except LinAlgError:\n",
    "        continue\n",
    "    except ValueError:\n",
    "        continue\n",
    "    aic = model.aic\n",
    "    if aic < best_aic:\n",
    "        best_model = model\n",
    "        best_aic = aic\n",
    "        best_param = param\n",
    "        results.append([param, model.aic])\n",
    "result_table = pd.DataFrame(results)\n",
    "result_table.columns = ['parameters', 'aic']\n",
    "print(result_table.sort_values(by = 'aic', ascending=True).head())"
   ]
  },
  {
   "cell_type": "code",
   "execution_count": null,
   "metadata": {},
   "outputs": [],
   "source": [
    "# FINANCE 5 WITHOUT EXOG TEST\n",
    "\n",
    "best_params = [(2, 1, 3)]\n",
    "train_sets = [train_5]\n",
    "test_sets = [test_data_5]\n",
    "predictions_list = []\n",
    "for i in range(len(train_sets)):\n",
    "    model_fit=ARIMA(train_sets[i].values, order=(best_params[i][0], best_params[i][1], best_params[i][2])).fit()\n",
    "    forecast = model_fit.forecast(steps=test_size)\n",
    "    predictions_2 = list(forecast)[0]\n",
    "    predictions_list.append(predictions_2)\n",
    "    train_with_predicted = list(train_sets[i])\n",
    "    for k in predictions_2:\n",
    "        train_with_predicted.append(k)\n",
    "    test_real = test_sets[i]\n",
    "    for j in range(1, len(test_sets[i]) + 1):\n",
    "        test_lag = j\n",
    "        t_mape = mape(test_real[:test_lag], predictions_2[:test_lag])\n",
    "        print('For %d days prediction Test MAPE: %.7f' % (j, t_mape))"
   ]
  },
  {
   "cell_type": "code",
   "execution_count": null,
   "metadata": {},
   "outputs": [],
   "source": [
    "# PREPARE FOR PLOT FINANCE 5 WITH/WITHOUT EXOG LISTS\n",
    "\n",
    "last_value = list(train_5)[len(train_5) - 1]\n",
    "test_list = list(test_data_5[:4])\n",
    "test_list.insert(0, last_value)\n",
    "predictions_1=np.insert(predictions_1[:4],0,last_value)\n",
    "predictions_2=np.insert(predictions_2[:4],0,last_value)\n",
    "new_index = pd.Index([train_5.index[-1]]).append(test_data_5[:4].index)"
   ]
  },
  {
   "cell_type": "code",
   "execution_count": null,
   "metadata": {},
   "outputs": [],
   "source": [
    "plt.figure(figsize=(10,6))\n",
    "plt.plot(train_5)\n",
    "plt.plot(new_index, test_list, label=\"expected\")\n",
    "plt.plot(new_index, predictions_1, color='green', label=\"predicted with exog\")\n",
    "plt.plot(new_index, predictions_2, color='red', label=\"predicted without exog\")\n",
    "plt.xlabel('Date', fontsize=14)\n",
    "plt.ylabel('Value', fontsize=14)\n",
    "plt.title('Topic \"Finance\" engagement', fontsize=14)\n",
    "plt.xticks(rotation=45)\n",
    "plt.legend()\n",
    "plt.grid(True)\n",
    "plt.show()"
   ]
  },
  {
   "cell_type": "code",
   "execution_count": null,
   "metadata": {},
   "outputs": [],
   "source": [
    "#####################################################################################################################"
   ]
  },
  {
   "cell_type": "code",
   "execution_count": 108,
   "metadata": {},
   "outputs": [],
   "source": [
    "# TOPIC 2 - Covid-19 in New York\n",
    "test_size = 8\n",
    "variable_9_title = 'sbj2_popularity_weighted'\n",
    "variable_9 = stable_analysis_df[variable_9_title]"
   ]
  },
  {
   "cell_type": "code",
   "execution_count": 109,
   "metadata": {},
   "outputs": [
    {
     "name": "stdout",
     "output_type": "stream",
     "text": [
      "Dickey-Fuller test: p=0.341890\n",
      "Student test: p=0.000000\n"
     ]
    }
   ],
   "source": [
    "print(\"Dickey-Fuller test: p=%f\" % sm.tsa.stattools.adfuller(variable_9)[1])\n",
    "print(\"Student test: p=%f\" % stats.ttest_1samp(variable_9, 0)[1]) "
   ]
  },
  {
   "cell_type": "code",
   "execution_count": 110,
   "metadata": {},
   "outputs": [
    {
     "name": "stdout",
     "output_type": "stream",
     "text": [
      "Dickey-Fuller test: p=0.000000\n"
     ]
    }
   ],
   "source": [
    "diff_variable_9 = variable_9 - variable_9.shift(1)\n",
    "print(\"Dickey-Fuller test: p=%f\" % sm.tsa.stattools.adfuller(diff_variable_9[1:])[1])"
   ]
  },
  {
   "cell_type": "code",
   "execution_count": 111,
   "metadata": {},
   "outputs": [],
   "source": [
    "variable_9_sub = pd.Series(gaussian_filter(variable_9, sigma=1)).to_frame().set_index([dates_index])[0]\n",
    "train_9, test_data_9 = variable_9_sub[0:len(variable_9_sub)-test_size], variable_9_sub[len(variable_9_sub)-test_size:]"
   ]
  },
  {
   "cell_type": "code",
   "execution_count": 112,
   "metadata": {},
   "outputs": [],
   "source": [
    "exog_titles = ['Confirmed_new_US', 'Deaths_new_US', 'work_US'] \n",
    "exog = stable_analysis_df[exog_titles]\n",
    "exog_train = exog[:len(exog) - test_size]\n",
    "exog_test = exog[len(exog) - test_size:]"
   ]
  },
  {
   "cell_type": "code",
   "execution_count": 113,
   "metadata": {},
   "outputs": [
    {
     "name": "stdout",
     "output_type": "stream",
     "text": [
      "Number of analysed models: 25\n",
      "  parameters         aic\n",
      "2     (0, 2)  781.699158\n",
      "1     (0, 1)  786.981328\n",
      "0     (0, 0)  814.110789\n"
     ]
    }
   ],
   "source": [
    "# Covid-19 in New York 2 WITH EXOG TRAIN\n",
    "\n",
    "ps = range(0, 5)\n",
    "d  = 1\n",
    "qs = range(0, 5)\n",
    "\n",
    "parameters = product(ps, qs)\n",
    "parameters_list = list(parameters)\n",
    "print (\"Number of analysed models:\", len(parameters_list))\n",
    "results = []\n",
    "best_aic = float(\"inf\")\n",
    "for param in parameters_list:\n",
    "    try:\n",
    "        model = ARIMA(train_9.values, order=(param[0], d, param[1]), exog=exog_train).fit()\n",
    "    except LinAlgError:\n",
    "        continue\n",
    "    except ValueError:\n",
    "        continue\n",
    "    aic = model.aic\n",
    "    if aic < best_aic:\n",
    "        best_model = model\n",
    "        best_aic = aic\n",
    "        best_param = param\n",
    "        results.append([param, model.aic])\n",
    "result_table = pd.DataFrame(results)\n",
    "result_table.columns = ['parameters', 'aic']\n",
    "print(result_table.sort_values(by = 'aic', ascending=True).head())"
   ]
  },
  {
   "cell_type": "code",
   "execution_count": 114,
   "metadata": {},
   "outputs": [
    {
     "name": "stdout",
     "output_type": "stream",
     "text": [
      "For 1 days prediction Test MAPE: 3.4600000\n",
      "For 2 days prediction Test MAPE: 3.3590000\n",
      "For 3 days prediction Test MAPE: 2.3810000\n",
      "For 4 days prediction Test MAPE: 4.1330000\n",
      "For 5 days prediction Test MAPE: 7.4400000\n",
      "For 6 days prediction Test MAPE: 10.8100000\n",
      "For 7 days prediction Test MAPE: 12.7360000\n",
      "For 8 days prediction Test MAPE: 12.4680000\n"
     ]
    }
   ],
   "source": [
    "# Covid-19 in New York 2 WITH EXOG TEST\n",
    "# 7 - (0, 1, 3)\n",
    "best_params = [(0, 1, 2)]\n",
    "train_sets = [train_9]\n",
    "test_sets = [test_data_9]\n",
    "predictions_list = []\n",
    "for i in range(len(train_sets)):\n",
    "    model_fit=ARIMA(train_sets[i].values, order=(best_params[i][0], best_params[i][1], best_params[i][2]), exog=exog_train).fit()\n",
    "    forecast = model_fit.forecast(steps=test_size, exog=exog_test)\n",
    "    predictions_1 = list(forecast)[0]\n",
    "    predictions_list.append(predictions_1)\n",
    "    train_with_predicted = list(train_sets[i])\n",
    "    for k in predictions_1:\n",
    "        train_with_predicted.append(k)\n",
    "    test_real = test_sets[i]\n",
    "    for j in range(1, len(test_sets[i]) + 1):\n",
    "        test_lag = j\n",
    "        t_mape = mape(test_real[:test_lag], predictions_1[:test_lag])\n",
    "        print('For %d days prediction Test MAPE: %.7f' % (j, t_mape))"
   ]
  },
  {
   "cell_type": "code",
   "execution_count": 115,
   "metadata": {},
   "outputs": [
    {
     "name": "stdout",
     "output_type": "stream",
     "text": [
      "Number of analysed models: 25\n",
      "  parameters         aic\n",
      "2     (0, 2)  774.988686\n",
      "1     (0, 1)  782.171164\n",
      "0     (0, 0)  810.453276\n"
     ]
    }
   ],
   "source": [
    "# Covid-19 in New York 2 WITHOUT EXOG TRAIN\n",
    "\n",
    "ps = range(0, 5)\n",
    "d  = 1\n",
    "qs = range(0, 5)\n",
    "\n",
    "parameters = product(ps, qs)\n",
    "parameters_list = list(parameters)\n",
    "print (\"Number of analysed models:\", len(parameters_list))\n",
    "results = []\n",
    "best_aic = float(\"inf\")\n",
    "for param in parameters_list:\n",
    "    try:\n",
    "        model = ARIMA(train_9.values, order=(param[0], d, param[1])).fit()\n",
    "    except LinAlgError:\n",
    "        continue\n",
    "    except ValueError:\n",
    "        continue\n",
    "    aic = model.aic\n",
    "    if aic < best_aic:\n",
    "        best_model = model\n",
    "        best_aic = aic\n",
    "        best_param = param\n",
    "        results.append([param, model.aic])\n",
    "result_table = pd.DataFrame(results)\n",
    "result_table.columns = ['parameters', 'aic']\n",
    "print(result_table.sort_values(by = 'aic', ascending=True).head())"
   ]
  },
  {
   "cell_type": "code",
   "execution_count": 116,
   "metadata": {},
   "outputs": [
    {
     "name": "stdout",
     "output_type": "stream",
     "text": [
      "For 1 days prediction Test MAPE: 0.6840000\n",
      "For 2 days prediction Test MAPE: 3.8530000\n",
      "For 3 days prediction Test MAPE: 8.5900000\n",
      "For 4 days prediction Test MAPE: 14.1860000\n",
      "For 5 days prediction Test MAPE: 20.3100000\n",
      "For 6 days prediction Test MAPE: 26.5180000\n",
      "For 7 days prediction Test MAPE: 32.0370000\n",
      "For 8 days prediction Test MAPE: 36.7530000\n"
     ]
    }
   ],
   "source": [
    "# Covid-19 in New York 2 WITHOUT EXOG TEST\n",
    "\n",
    "best_params = [(0, 1, 3)]\n",
    "train_sets = [train_9]\n",
    "test_sets = [test_data_9]\n",
    "predictions_list = []\n",
    "for i in range(len(train_sets)):\n",
    "    model_fit = ARIMA(train_sets[i].values, order=(best_params[i][0], best_params[i][1], best_params[i][2])).fit()\n",
    "    forecast = model_fit.forecast(steps=test_size)\n",
    "    predictions_2 = list(forecast)[0]\n",
    "    predictions_list.append(predictions_2)\n",
    "    train_with_predicted = list(train_sets[i])\n",
    "    for k in predictions_2:\n",
    "        train_with_predicted.append(k)\n",
    "    test_real = test_sets[i]\n",
    "    for j in range(1, len(test_sets[i]) + 1):\n",
    "        test_lag = j\n",
    "        t_mape = mape(test_real[:test_lag], predictions_2[:test_lag])\n",
    "        print('For %d days prediction Test MAPE: %.7f' % (j, t_mape))"
   ]
  },
  {
   "cell_type": "code",
   "execution_count": 117,
   "metadata": {},
   "outputs": [],
   "source": [
    "# PREPARE FOR PLOT Covid-19 in New York 2 WITH/WITHOUT EXOG LISTS\n",
    "\n",
    "last_value = list(train_9)[len(train_9) - 1]\n",
    "test_list = list(test_data_9)\n",
    "test_list.insert(0, last_value)\n",
    "predictions_1=np.insert(predictions_1,0,last_value)\n",
    "predictions_2=np.insert(predictions_2,0,last_value)\n",
    "new_index = pd.Index([train_9.index[-1]]).append(test_data_9.index)"
   ]
  },
  {
   "cell_type": "code",
   "execution_count": 118,
   "metadata": {},
   "outputs": [
    {
     "data": {
      "image/png": "[encoded data removed]",
      "text/plain": [
       "<Figure size 720x432 with 1 Axes>"
      ]
     },
     "metadata": {
      "needs_background": "light"
     },
     "output_type": "display_data"
    }
   ],
   "source": [
    "plt.figure(figsize=(10,6))\n",
    "plt.plot(train_9)\n",
    "plt.plot(new_index, test_list, label=\"expected\")\n",
    "plt.plot(new_index, predictions_1, color='green', label=\"predicted with exog\")\n",
    "plt.plot(new_index, predictions_2, color='red', label=\"predicted without exog\")\n",
    "plt.xlabel('Date', fontsize=14)\n",
    "plt.ylabel('Value', fontsize=14)\n",
    "plt.title('Topic \"China\" popularity', fontsize=14)\n",
    "plt.xticks(rotation=45)\n",
    "plt.legend()\n",
    "plt.grid(True)\n",
    "plt.show()"
   ]
  },
  {
   "cell_type": "code",
   "execution_count": null,
   "metadata": {},
   "outputs": [],
   "source": []
  }
 ],
 "metadata": {
  "kernelspec": {
   "display_name": "Python 3",
   "language": "python",
   "name": "python3"
  },
  "language_info": {
   "codemirror_mode": {
    "name": "ipython",
    "version": 3
   },
   "file_extension": ".py",
   "mimetype": "text/x-python",
   "name": "python",
   "nbconvert_exporter": "python",
   "pygments_lexer": "ipython3",
   "version": "3.8.5"
  }
 },
 "nbformat": 4,
 "nbformat_minor": 4
}
