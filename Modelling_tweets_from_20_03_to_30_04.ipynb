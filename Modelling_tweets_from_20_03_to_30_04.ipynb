{
 "cells": [
  {
   "cell_type": "markdown",
   "metadata": {},
   "source": [
    "## Инициализация модели"
   ]
  },
  {
   "cell_type": "code",
   "execution_count": 3,
   "metadata": {},
   "outputs": [],
   "source": [
    "import artm\n",
    "from matplotlib import pyplot as plt\n",
    "import datetime\n",
    "import pandas as pd\n",
    "%matplotlib inline"
   ]
  },
  {
   "cell_type": "code",
   "execution_count": 2,
   "metadata": {},
   "outputs": [],
   "source": [
    "# batch_vectorizer = artm.BatchVectorizer(data_path=\"txt\\\\2020-03-12_2020-04-30_us_tweets_no_ngramms.txt\", data_format=\"vowpal_wabbit\", \n",
    "#                                         target_folder=\"2020-03-12_2020-04-30_us_tweets_no_ngramms\", batch_size=100)"
   ]
  },
  {
   "cell_type": "code",
   "execution_count": 3,
   "metadata": {},
   "outputs": [],
   "source": [
    "batch_vectorizer = artm.BatchVectorizer(data_path=\"2020-03-12_2020-04-30_us_tweets_no_ngramms\", data_format='batches')"
   ]
  },
  {
   "cell_type": "code",
   "execution_count": 4,
   "metadata": {},
   "outputs": [],
   "source": [
    "dictionary = artm.Dictionary(name='dictionary', data_path=batch_vectorizer.data_path)"
   ]
  },
  {
   "cell_type": "code",
   "execution_count": 99,
   "metadata": {},
   "outputs": [],
   "source": [
    "T = 20  # количество тем -1\n",
    "F = 1\n",
    "model_artm_tweets = artm.ARTM(num_topics=T+F, topic_names=[\"sbj\"+str(i) for i in range(T)]+[\"bcg\"+str(i) for i in range(F)], \n",
    "                              class_ids={\"text\":1}, cache_theta = True, num_document_passes=1, show_progress_bars = True)\n",
    "# число после названия модальностей - это их веса"
   ]
  },
  {
   "cell_type": "code",
   "execution_count": 100,
   "metadata": {},
   "outputs": [],
   "source": [
    "model_artm_tweets.scores.add(artm.PerplexityScore(name='PerplexityScore', dictionary='dictionary'), overwrite=True)\n",
    "model_artm_tweets.scores.add(artm.SparsityPhiScore(name='SparsityPhiScore', class_id=\"text\"), overwrite=True)\n",
    "model_artm_tweets.scores.add(artm.SparsityThetaScore(name='SparsityThetaScore'), overwrite=True)\n",
    "model_artm_tweets.scores.add(artm.TopTokensScore(name=\"top_words\", num_tokens=15, class_id=\"text\"), overwrite=True)\n",
    "model_artm_tweets.scores.add(artm.TopicKernelScore(name='TopicKernelScore', probability_mass_threshold=0.5, class_id=\"text\"))"
   ]
  },
  {
   "cell_type": "code",
   "execution_count": 104,
   "metadata": {},
   "outputs": [
    {
     "name": "stdout",
     "output_type": "stream",
     "text": [
      "Wall time: 2.49 s\n"
     ]
    }
   ],
   "source": [
    "%%time\n",
    "model_artm_tweets.initialize(dictionary)"
   ]
  },
  {
   "cell_type": "code",
   "execution_count": 106,
   "metadata": {},
   "outputs": [
    {
     "data": {
      "application/vnd.jupyter.widget-view+json": {
       "model_id": "72cdb2afb79941609b2a88aa1a99da36",
       "version_major": 2,
       "version_minor": 0
      },
      "text/plain": [
       "HBox(children=(FloatProgress(value=0.0, description='Pass', max=40.0, style=ProgressStyle(description_width='i…"
      ]
     },
     "metadata": {},
     "output_type": "display_data"
    },
    {
     "data": {
      "application/vnd.jupyter.widget-view+json": {
       "model_id": "",
       "version_major": 2,
       "version_minor": 0
      },
      "text/plain": [
       "HBox(children=(FloatProgress(value=0.0, description='Batch', max=3362.0, style=ProgressStyle(description_width…"
      ]
     },
     "metadata": {},
     "output_type": "display_data"
    },
    {
     "data": {
      "application/vnd.jupyter.widget-view+json": {
       "model_id": "",
       "version_major": 2,
       "version_minor": 0
      },
      "text/plain": [
       "HBox(children=(FloatProgress(value=0.0, description='Batch', max=3362.0, style=ProgressStyle(description_width…"
      ]
     },
     "metadata": {},
     "output_type": "display_data"
    },
    {
     "data": {
      "application/vnd.jupyter.widget-view+json": {
       "model_id": "",
       "version_major": 2,
       "version_minor": 0
      },
      "text/plain": [
       "HBox(children=(FloatProgress(value=0.0, description='Batch', max=3362.0, style=ProgressStyle(description_width…"
      ]
     },
     "metadata": {},
     "output_type": "display_data"
    },
    {
     "data": {
      "application/vnd.jupyter.widget-view+json": {
       "model_id": "",
       "version_major": 2,
       "version_minor": 0
      },
      "text/plain": [
       "HBox(children=(FloatProgress(value=0.0, description='Batch', max=3362.0, style=ProgressStyle(description_width…"
      ]
     },
     "metadata": {},
     "output_type": "display_data"
    },
    {
     "data": {
      "application/vnd.jupyter.widget-view+json": {
       "model_id": "",
       "version_major": 2,
       "version_minor": 0
      },
      "text/plain": [
       "HBox(children=(FloatProgress(value=0.0, description='Batch', max=3362.0, style=ProgressStyle(description_width…"
      ]
     },
     "metadata": {},
     "output_type": "display_data"
    },
    {
     "data": {
      "application/vnd.jupyter.widget-view+json": {
       "model_id": "",
       "version_major": 2,
       "version_minor": 0
      },
      "text/plain": [
       "HBox(children=(FloatProgress(value=0.0, description='Batch', max=3362.0, style=ProgressStyle(description_width…"
      ]
     },
     "metadata": {},
     "output_type": "display_data"
    },
    {
     "data": {
      "application/vnd.jupyter.widget-view+json": {
       "model_id": "",
       "version_major": 2,
       "version_minor": 0
      },
      "text/plain": [
       "HBox(children=(FloatProgress(value=0.0, description='Batch', max=3362.0, style=ProgressStyle(description_width…"
      ]
     },
     "metadata": {},
     "output_type": "display_data"
    },
    {
     "data": {
      "application/vnd.jupyter.widget-view+json": {
       "model_id": "",
       "version_major": 2,
       "version_minor": 0
      },
      "text/plain": [
       "HBox(children=(FloatProgress(value=0.0, description='Batch', max=3362.0, style=ProgressStyle(description_width…"
      ]
     },
     "metadata": {},
     "output_type": "display_data"
    },
    {
     "data": {
      "application/vnd.jupyter.widget-view+json": {
       "model_id": "",
       "version_major": 2,
       "version_minor": 0
      },
      "text/plain": [
       "HBox(children=(FloatProgress(value=0.0, description='Batch', max=3362.0, style=ProgressStyle(description_width…"
      ]
     },
     "metadata": {},
     "output_type": "display_data"
    },
    {
     "data": {
      "application/vnd.jupyter.widget-view+json": {
       "model_id": "",
       "version_major": 2,
       "version_minor": 0
      },
      "text/plain": [
       "HBox(children=(FloatProgress(value=0.0, description='Batch', max=3362.0, style=ProgressStyle(description_width…"
      ]
     },
     "metadata": {},
     "output_type": "display_data"
    },
    {
     "data": {
      "application/vnd.jupyter.widget-view+json": {
       "model_id": "",
       "version_major": 2,
       "version_minor": 0
      },
      "text/plain": [
       "HBox(children=(FloatProgress(value=0.0, description='Batch', max=3362.0, style=ProgressStyle(description_width…"
      ]
     },
     "metadata": {},
     "output_type": "display_data"
    },
    {
     "data": {
      "application/vnd.jupyter.widget-view+json": {
       "model_id": "",
       "version_major": 2,
       "version_minor": 0
      },
      "text/plain": [
       "HBox(children=(FloatProgress(value=0.0, description='Batch', max=3362.0, style=ProgressStyle(description_width…"
      ]
     },
     "metadata": {},
     "output_type": "display_data"
    },
    {
     "data": {
      "application/vnd.jupyter.widget-view+json": {
       "model_id": "",
       "version_major": 2,
       "version_minor": 0
      },
      "text/plain": [
       "HBox(children=(FloatProgress(value=0.0, description='Batch', max=3362.0, style=ProgressStyle(description_width…"
      ]
     },
     "metadata": {},
     "output_type": "display_data"
    },
    {
     "data": {
      "application/vnd.jupyter.widget-view+json": {
       "model_id": "",
       "version_major": 2,
       "version_minor": 0
      },
      "text/plain": [
       "HBox(children=(FloatProgress(value=0.0, description='Batch', max=3362.0, style=ProgressStyle(description_width…"
      ]
     },
     "metadata": {},
     "output_type": "display_data"
    },
    {
     "data": {
      "application/vnd.jupyter.widget-view+json": {
       "model_id": "",
       "version_major": 2,
       "version_minor": 0
      },
      "text/plain": [
       "HBox(children=(FloatProgress(value=0.0, description='Batch', max=3362.0, style=ProgressStyle(description_width…"
      ]
     },
     "metadata": {},
     "output_type": "display_data"
    },
    {
     "data": {
      "application/vnd.jupyter.widget-view+json": {
       "model_id": "",
       "version_major": 2,
       "version_minor": 0
      },
      "text/plain": [
       "HBox(children=(FloatProgress(value=0.0, description='Batch', max=3362.0, style=ProgressStyle(description_width…"
      ]
     },
     "metadata": {},
     "output_type": "display_data"
    },
    {
     "data": {
      "application/vnd.jupyter.widget-view+json": {
       "model_id": "",
       "version_major": 2,
       "version_minor": 0
      },
      "text/plain": [
       "HBox(children=(FloatProgress(value=0.0, description='Batch', max=3362.0, style=ProgressStyle(description_width…"
      ]
     },
     "metadata": {},
     "output_type": "display_data"
    },
    {
     "data": {
      "application/vnd.jupyter.widget-view+json": {
       "model_id": "",
       "version_major": 2,
       "version_minor": 0
      },
      "text/plain": [
       "HBox(children=(FloatProgress(value=0.0, description='Batch', max=3362.0, style=ProgressStyle(description_width…"
      ]
     },
     "metadata": {},
     "output_type": "display_data"
    },
    {
     "data": {
      "application/vnd.jupyter.widget-view+json": {
       "model_id": "",
       "version_major": 2,
       "version_minor": 0
      },
      "text/plain": [
       "HBox(children=(FloatProgress(value=0.0, description='Batch', max=3362.0, style=ProgressStyle(description_width…"
      ]
     },
     "metadata": {},
     "output_type": "display_data"
    },
    {
     "data": {
      "application/vnd.jupyter.widget-view+json": {
       "model_id": "",
       "version_major": 2,
       "version_minor": 0
      },
      "text/plain": [
       "HBox(children=(FloatProgress(value=0.0, description='Batch', max=3362.0, style=ProgressStyle(description_width…"
      ]
     },
     "metadata": {},
     "output_type": "display_data"
    },
    {
     "data": {
      "application/vnd.jupyter.widget-view+json": {
       "model_id": "",
       "version_major": 2,
       "version_minor": 0
      },
      "text/plain": [
       "HBox(children=(FloatProgress(value=0.0, description='Batch', max=3362.0, style=ProgressStyle(description_width…"
      ]
     },
     "metadata": {},
     "output_type": "display_data"
    },
    {
     "data": {
      "application/vnd.jupyter.widget-view+json": {
       "model_id": "",
       "version_major": 2,
       "version_minor": 0
      },
      "text/plain": [
       "HBox(children=(FloatProgress(value=0.0, description='Batch', max=3362.0, style=ProgressStyle(description_width…"
      ]
     },
     "metadata": {},
     "output_type": "display_data"
    },
    {
     "data": {
      "application/vnd.jupyter.widget-view+json": {
       "model_id": "",
       "version_major": 2,
       "version_minor": 0
      },
      "text/plain": [
       "HBox(children=(FloatProgress(value=0.0, description='Batch', max=3362.0, style=ProgressStyle(description_width…"
      ]
     },
     "metadata": {},
     "output_type": "display_data"
    },
    {
     "data": {
      "application/vnd.jupyter.widget-view+json": {
       "model_id": "",
       "version_major": 2,
       "version_minor": 0
      },
      "text/plain": [
       "HBox(children=(FloatProgress(value=0.0, description='Batch', max=3362.0, style=ProgressStyle(description_width…"
      ]
     },
     "metadata": {},
     "output_type": "display_data"
    },
    {
     "data": {
      "application/vnd.jupyter.widget-view+json": {
       "model_id": "",
       "version_major": 2,
       "version_minor": 0
      },
      "text/plain": [
       "HBox(children=(FloatProgress(value=0.0, description='Batch', max=3362.0, style=ProgressStyle(description_width…"
      ]
     },
     "metadata": {},
     "output_type": "display_data"
    },
    {
     "data": {
      "application/vnd.jupyter.widget-view+json": {
       "model_id": "",
       "version_major": 2,
       "version_minor": 0
      },
      "text/plain": [
       "HBox(children=(FloatProgress(value=0.0, description='Batch', max=3362.0, style=ProgressStyle(description_width…"
      ]
     },
     "metadata": {},
     "output_type": "display_data"
    },
    {
     "data": {
      "application/vnd.jupyter.widget-view+json": {
       "model_id": "",
       "version_major": 2,
       "version_minor": 0
      },
      "text/plain": [
       "HBox(children=(FloatProgress(value=0.0, description='Batch', max=3362.0, style=ProgressStyle(description_width…"
      ]
     },
     "metadata": {},
     "output_type": "display_data"
    },
    {
     "data": {
      "application/vnd.jupyter.widget-view+json": {
       "model_id": "",
       "version_major": 2,
       "version_minor": 0
      },
      "text/plain": [
       "HBox(children=(FloatProgress(value=0.0, description='Batch', max=3362.0, style=ProgressStyle(description_width…"
      ]
     },
     "metadata": {},
     "output_type": "display_data"
    },
    {
     "data": {
      "application/vnd.jupyter.widget-view+json": {
       "model_id": "",
       "version_major": 2,
       "version_minor": 0
      },
      "text/plain": [
       "HBox(children=(FloatProgress(value=0.0, description='Batch', max=3362.0, style=ProgressStyle(description_width…"
      ]
     },
     "metadata": {},
     "output_type": "display_data"
    },
    {
     "data": {
      "application/vnd.jupyter.widget-view+json": {
       "model_id": "",
       "version_major": 2,
       "version_minor": 0
      },
      "text/plain": [
       "HBox(children=(FloatProgress(value=0.0, description='Batch', max=3362.0, style=ProgressStyle(description_width…"
      ]
     },
     "metadata": {},
     "output_type": "display_data"
    },
    {
     "data": {
      "application/vnd.jupyter.widget-view+json": {
       "model_id": "",
       "version_major": 2,
       "version_minor": 0
      },
      "text/plain": [
       "HBox(children=(FloatProgress(value=0.0, description='Batch', max=3362.0, style=ProgressStyle(description_width…"
      ]
     },
     "metadata": {},
     "output_type": "display_data"
    },
    {
     "data": {
      "application/vnd.jupyter.widget-view+json": {
       "model_id": "",
       "version_major": 2,
       "version_minor": 0
      },
      "text/plain": [
       "HBox(children=(FloatProgress(value=0.0, description='Batch', max=3362.0, style=ProgressStyle(description_width…"
      ]
     },
     "metadata": {},
     "output_type": "display_data"
    },
    {
     "data": {
      "application/vnd.jupyter.widget-view+json": {
       "model_id": "",
       "version_major": 2,
       "version_minor": 0
      },
      "text/plain": [
       "HBox(children=(FloatProgress(value=0.0, description='Batch', max=3362.0, style=ProgressStyle(description_width…"
      ]
     },
     "metadata": {},
     "output_type": "display_data"
    },
    {
     "data": {
      "application/vnd.jupyter.widget-view+json": {
       "model_id": "",
       "version_major": 2,
       "version_minor": 0
      },
      "text/plain": [
       "HBox(children=(FloatProgress(value=0.0, description='Batch', max=3362.0, style=ProgressStyle(description_width…"
      ]
     },
     "metadata": {},
     "output_type": "display_data"
    },
    {
     "data": {
      "application/vnd.jupyter.widget-view+json": {
       "model_id": "",
       "version_major": 2,
       "version_minor": 0
      },
      "text/plain": [
       "HBox(children=(FloatProgress(value=0.0, description='Batch', max=3362.0, style=ProgressStyle(description_width…"
      ]
     },
     "metadata": {},
     "output_type": "display_data"
    },
    {
     "data": {
      "application/vnd.jupyter.widget-view+json": {
       "model_id": "",
       "version_major": 2,
       "version_minor": 0
      },
      "text/plain": [
       "HBox(children=(FloatProgress(value=0.0, description='Batch', max=3362.0, style=ProgressStyle(description_width…"
      ]
     },
     "metadata": {},
     "output_type": "display_data"
    },
    {
     "data": {
      "application/vnd.jupyter.widget-view+json": {
       "model_id": "",
       "version_major": 2,
       "version_minor": 0
      },
      "text/plain": [
       "HBox(children=(FloatProgress(value=0.0, description='Batch', max=3362.0, style=ProgressStyle(description_width…"
      ]
     },
     "metadata": {},
     "output_type": "display_data"
    },
    {
     "data": {
      "application/vnd.jupyter.widget-view+json": {
       "model_id": "",
       "version_major": 2,
       "version_minor": 0
      },
      "text/plain": [
       "HBox(children=(FloatProgress(value=0.0, description='Batch', max=3362.0, style=ProgressStyle(description_width…"
      ]
     },
     "metadata": {},
     "output_type": "display_data"
    },
    {
     "data": {
      "application/vnd.jupyter.widget-view+json": {
       "model_id": "",
       "version_major": 2,
       "version_minor": 0
      },
      "text/plain": [
       "HBox(children=(FloatProgress(value=0.0, description='Batch', max=3362.0, style=ProgressStyle(description_width…"
      ]
     },
     "metadata": {},
     "output_type": "display_data"
    },
    {
     "data": {
      "application/vnd.jupyter.widget-view+json": {
       "model_id": "",
       "version_major": 2,
       "version_minor": 0
      },
      "text/plain": [
       "HBox(children=(FloatProgress(value=0.0, description='Batch', max=3362.0, style=ProgressStyle(description_width…"
      ]
     },
     "metadata": {},
     "output_type": "display_data"
    },
    {
     "name": "stdout",
     "output_type": "stream",
     "text": [
      "\n",
      "Wall time: 3min 46s\n"
     ]
    }
   ],
   "source": [
    "%%time\n",
    "model_artm_tweets.fit_offline(batch_vectorizer=batch_vectorizer, num_collection_passes=40)"
   ]
  },
  {
   "cell_type": "code",
   "execution_count": 107,
   "metadata": {},
   "outputs": [],
   "source": [
    "# theta = model_artm_tweets.get_theta()\n",
    "# print(theta)\n",
    "# theta.to_csv('20_2_2\\\\theta1.csv')\n",
    "# phi = model_artm_tweets.get_phi()\n",
    "# print(phi)\n",
    "# phi.to_csv('20_2_2\\\\phi1.csv')"
   ]
  },
  {
   "cell_type": "markdown",
   "metadata": {},
   "source": [
    "## Начальный анализ "
   ]
  },
  {
   "cell_type": "code",
   "execution_count": 62,
   "metadata": {},
   "outputs": [
    {
     "name": "stdout",
     "output_type": "stream",
     "text": [
      "0.8473618030548096\n",
      "1.1756355888792314e-05\n",
      "1703.1475830078125\n",
      "0.9717655181884766\n"
     ]
    }
   ],
   "source": [
    "print (model_artm_tweets.score_tracker[\"SparsityPhiScore\"].last_value)\n",
    "print (model_artm_tweets.score_tracker[\"SparsityThetaScore\"].last_value)\n",
    "print (model_artm_tweets.score_tracker[\"PerplexityScore\"].last_value)\n",
    "print (model_artm_tweets.score_tracker[\"TopicKernelScore\"].last_average_contrast)"
   ]
  },
  {
   "cell_type": "code",
   "execution_count": 63,
   "metadata": {},
   "outputs": [
    {
     "data": {
      "text/plain": [
       "[<matplotlib.lines.Line2D at 0x1062cc18>]"
      ]
     },
     "execution_count": 63,
     "metadata": {},
     "output_type": "execute_result"
    },
    {
     "data": {
      "image/png": "[encoded data removed]",
      "text/plain": [
       "<Figure size 432x288 with 1 Axes>"
      ]
     },
     "metadata": {
      "needs_background": "light"
     },
     "output_type": "display_data"
    }
   ],
   "source": [
    "plt.plot(model_artm_tweets.score_tracker[\"PerplexityScore\"].value[1:])"
   ]
  },
  {
   "cell_type": "code",
   "execution_count": 64,
   "metadata": {},
   "outputs": [
    {
     "data": {
      "text/plain": [
       "[<matplotlib.lines.Line2D at 0xffa5908>]"
      ]
     },
     "execution_count": 64,
     "metadata": {},
     "output_type": "execute_result"
    },
    {
     "data": {
      "image/png": "[encoded data removed]",
      "text/plain": [
       "<Figure size 432x288 with 1 Axes>"
      ]
     },
     "metadata": {
      "needs_background": "light"
     },
     "output_type": "display_data"
    }
   ],
   "source": [
    "plt.plot(model_artm_tweets.score_tracker[\"SparsityPhiScore\"].value)"
   ]
  },
  {
   "cell_type": "code",
   "execution_count": 65,
   "metadata": {},
   "outputs": [
    {
     "data": {
      "text/plain": [
       "[<matplotlib.lines.Line2D at 0x550f908>]"
      ]
     },
     "execution_count": 65,
     "metadata": {},
     "output_type": "execute_result"
    },
    {
     "data": {
      "image/png": "[encoded data removed]",
      "text/plain": [
       "<Figure size 432x288 with 1 Axes>"
      ]
     },
     "metadata": {
      "needs_background": "light"
     },
     "output_type": "display_data"
    }
   ],
   "source": [
    "plt.plot(model_artm_tweets.score_tracker[\"SparsityThetaScore\"].value)"
   ]
  },
  {
   "cell_type": "code",
   "execution_count": 66,
   "metadata": {},
   "outputs": [
    {
     "data": {
      "text/plain": [
       "[<matplotlib.lines.Line2D at 0xe9f1940>]"
      ]
     },
     "execution_count": 66,
     "metadata": {},
     "output_type": "execute_result"
    },
    {
     "data": {
      "image/png": "[encoded data removed]",
      "text/plain": [
       "<Figure size 432x288 with 1 Axes>"
      ]
     },
     "metadata": {
      "needs_background": "light"
     },
     "output_type": "display_data"
    }
   ],
   "source": [
    "plt.plot(model_artm_tweets.score_tracker[\"TopicKernelScore\"].average_contrast)"
   ]
  },
  {
   "cell_type": "code",
   "execution_count": 67,
   "metadata": {},
   "outputs": [
    {
     "name": "stdout",
     "output_type": "stream",
     "text": [
      "sbj0 ['see', 'week', 'covid19', 'use', 'first', 'try', 'order', 'last', 'share', 'since', 'break', 'little', 'bring', 'april', 'two', 'march', 'issue', 'ago', 'child', 'safety', 'action', 'hero', 'church', 'resident', 'air', 'slow', 'ohio', 'amaze', 'past', 'return', 'three', 'currently', 'limit', 'meal', 'responder', 'contact', 'picture', 'schedule', 'figure', 'comment', 'reduce', 'illinois', 'thursday', 'relate', 'tuesday', 'large', 'inthistogether', 'necessary', 'respect', 'gathering']\n",
      "sbj1 ['coronavirus', 'covid', 'stayhome', 'trump', 'stayathome', 'nyc', 'president', 'usa', 'staysafe', 'coronavirususa', 'youtube', 'stayhomesavelives', 'washyourhands', 'coronaoutbreak', 'spring', 'shelterinplace', 'lol', 'newyork', 'covidiots', 'joke', 'funny', 'stayhealthy', 'donald', 'brooklyn', 'nature', 'viral', 'savelives', 'mr', 'stopthespread', 'photography', 'forever', 'manhattan', 'comfort', '2020', 'saferathome', 'donaldtrump', 'coronavirusnewyork', 'repost', 'newyorkcity', 'besafe', 'covd19', 'coronaupdate', 'kag', 'meanwhile', 'channel', 'who', 'style', 'sundaythoughts', 'fakenews', 'trump2020']\n",
      "sbj2 ['nt', 'virus', 'want', 'ca', 'stop', 'year', 'really', 'corona', 'school', 'california', 'china', 'kid', 'mean', 'something', 'cancel', 'fuck', 'kill', 'everything', 'na', 'yet', 'wo', 'gon', 'seem', 'flu', 'truth', 'seriously', 'maybe', 'cause', 'old', 'parent', 'worry', 'guess', 'party', 'wrong', 'blame', 'chinese', 'teacher', 'san', 'stupid', 'imagine', 'reason', 'ai', 'stuff', 'idiot', 'heard', 'sanitizer', 'gavinnewsom', 'coronavirustruth', 'say', 'summer']\n",
      "sbj3 ['please', 'love', 'live', 'due', 'put', 'place', 'risk', 'join', 'tonight', 'believe', 'tomorrow', 'hey', 'force', 'ready', 'music', 'pray', 'high', 'season', 'light', 'sport', 'la', 'future', 'heart', 'prayer', 'monday', 'mayor', 'expect', 'book', 'unemployment', 'tv', 'shelter', 'song', 'brief', 'amid', 'tune', 'fire', 'north', 'fall', 'nba', 'record', 'along', 'college', 'suspend', 'losangeles', 'discuss', 'postpone', 'covid19', 'task', 'pas', 'stream']\n",
      "sbj4 ['new', 'say', 'case', 'state', 'death', 'covid19', 'city', 'number', 'county', 'york', 'report', 'florida', 'governor', 'th', 'confirm', 'total', 'beach', 'nygovcuomo', 'latest', 'yesterday', 'rate', 'ny', 'official', 'coronavirus', 'answer', 'announce', 'per', 'gov', 'top', 'united', 'south', 'recover', 'breaking', 'toll', 'usa', 'cuomo', 'michigan', 'department', 'increase', 'accord', 'govrondesantis', 'police', 'ban', 'across', 'worldwide', 'mass', 'jersey', 'nj', 'threat', 'island']\n",
      "sbj5 ['amp', 'news', 'business', 'american', 'response', 'food', 'local', 'impact', 'sign', 'money', 'small', 'include', 'donate', 'bill', 'outbreak', 'fact', 'relief', 'gop', 'covid19', 'white', 'market', 'fund', 'name', 'twitter', 'economic', 'facebook', 'power', 'stimulus', 'congress', 'program', 'recovery', 'page', 'raise', 'tax', 'owner', 'donation', 'bank', 'republican', 'financial', 'poor', 'ignore', 'loan', 'breakingnews', 'encourage', 'animal', 'aid', 'petition', 'delay', 'account', 'men']\n",
      "sbj6 ['get', 'people', 'think', 'would', 'let', 'well', 'back', 'die', 'open', 'real', 'wait', 'covid19', 'someone', 'sick', 'do', 'covid2019', 'lie', 'soon', 'human', 'folk', 'whole', 'begin', 'idea', 'actually', 'minute', 'ok', 'stock', 'situation', 'understand', 'shop', 'might', 'coronavirus', 'though', 'effect', 'washington', 'cut', 'literally', 'anxiety', 'explain', 'glad', 'grow', 'smart', 'hair', 'hop', 'elderly', 'perfect', 'living', 'quickly', 'hurt', 'hopefully']\n",
      "sbj7 ['need', 'help', 'covid19', 'spread', 'crisis', 'community', 'hospital', 'may', 'job', 'medical', 'student', 'must', 'part', 'million', 'others', 'send', 'emergency', 'economy', 'staff', 'supply', 'move', 'hit', 'act', 'center', 'effort', 'offer', 'professional', 'package', 'receive', 'serve', 'access', 'focus', 'level', 'bed', 'critical', 'demand', 'vulnerable', 'opportunity', 'urge', 'might', 'speakerpelosi', 'volunteer', 'thousand', 'industry', 'individual', 'ensure', 'homeless', 'senatemajldr', 'lock', 'contract']\n",
      "sbj8 ['work', 'right', 'look', 'many', 'give', 'worker', 'healthcare', 'pay', 'america', 'leave', 'change', 'government', 'lose', 'covid19', 'hard', 'employee', 'enough', 'company', 'shut', 'anything', 'less', 'forget', 'federal', 'customer', 'hoax', 'instead', 'joebiden', 'administration', 'trust', 'citizen', 'hell', 'frontline', 'policy', 'absolutely', 'benefit', 'push', 'charge', 'law', 'attention', 'democrat', 'either', 'price', 'amazon', 'rent', 'flight', 'wtf', 'fast', 'campaign', 'wipe', 'zero']\n",
      "sbj9 ['covid19', 'home', 'stay', 'keep', 'safe', 'social', 'distancing', 'follow', 'distance', 'daily', 'healthy', 'practice', 'least', 'area', 'strong', 'possible', 'tip', 'infect', 'serious', 'room', 'prevent', 'reach', 'infection', 'blood', 'avoid', 'course', 'advice', 'notice', 'count', 'young', 'guideline', 'space', 'socialdistance', 'fly', 'common', 'effective', 'scary', 'suggest', 'inform', 'publichealth', 'crowd', 'golf', 'peak', 'six', 'guidance', 'maintain', 'cold', 'throughout', 'physical', 'alive']\n",
      "sbj10 ['like', 'coronavirusoutbreak', 'good', 'everyone', 'even', 'watch', 'feel', 'hand', 'anyone', 'outbreak', 'lot', 'god', 'long', 'covid19', 'big', 'else', 'wash', 'deal', 'normal', 'wish', 'coronapocalypse', 'problem', 'damn', 'finally', 'sad', 'moment', 'eat', 'movie', 'coronapocolypse', 'phone', 'kind', 'survive', 'catch', 'water', 'dead', 'touch', 'probably', 'baby', 'realize', 'drink', 'birthday', 'as', 'reminder', 'son', 'sorry', 'daughter', 'hate', 'girl', 'coffee', 'extra']\n",
      "sbj11 ['quarantine', 'socialdistancing', 'life', 'thing', 'lockdown', 'quarantinelife', 'never', 'covid19', 'video', 'save', 'miss', 'happy', 'remember', 'shit', 'yes', 'isolation', 'fun', 'dog', 'stayhomestaysafe', 'self', 'side', 'alone', 'chicago', 'favorite', 'sound', 'wake', 'decide', 'quarantineandchill', 'meme', 'reality', 'saturday', 'spend', 'coronavirus', 'netflix', 'laugh', 'dc', 'quaratinelife', 'selfquarantine', 'suppose', 'sunday', 'bit', 'workfromhome', 'definitely', 'coronaviruslockdown', 'sleep', 'smile', 'tiktok', 'miami', 'wfh', 'dinner']\n",
      "sbj12 ['covid_19', 'go', 'coronaviruspandemic', 'today', 'still', 'close', 'start', 'every', 'month', 'end', 'store', 'away', 'park', 'buy', 'restaurant', 'office', 'outside', 'far', 'visit', 'car', 'inside', 'enjoy', 'delivery', 'bar', 'date', 'shutdown', 'door', 'foot', 'seattle', 'rule', 'chance', 'extend', 'stick', 'responsible', 'covid19us', 'disinfectant', 'suck', 'cool', 'beer', 'yeah', 'afternoon', 'officially', 'felt', 'apart', 'stayathomeorder', 'coronacrisis', 'mile', 'earlier', 'club', 'takeout']\n",
      "sbj13 ['covid19', 'realdonaldtrump', 'tell', 'plan', 'dr', 'potus', 'cnn', 'hold', 'resource', 'national', 'press', 'available', 'conference', 'cdc', 'foxnews', 'reopen', 'early', 'meet', 'fauci', 'whitehouse', 'forward', 'regard', 'trumpvirus', 'fail', 'base', 'vp', 'agree', 'cdcgov', 'interest', 'address', 'curve', 'research', 'msnbc', 'claim', 'briefing', 'website', 'political', 'detail', 'trump', 'view', 'solution', 'attack', 'general', 'loss', 'medicine', 'board', 'key', 'statement', 'nytimes', 'flatten']\n",
      "sbj14 ['time', 'pandemic', 'covid19', 'great', 'show', 'also', 'find', 'best', 'another', 'ever', 'full', 'system', 'global', 'fear', 'cover', 'affect', 'set', 'crazy', 'concern', 'experience', 'release', 'better', 'current', 'thread', 'coronalockdown', 'wow', 'war', 'speak', 'maga', 'cure', 'education', 'lack', 'stress', 'covid19pandemic', 'single', 'stayathomeandstaysafe', 'respond', 'thankful', 'piece', 'immune', 'tough', 'husband', 'short', 'old', 'workingfromhome', 'excellent', 'senator', 'lady', 'however', 'midst']\n",
      "sbj15 ['covid19', 'update', 'via', 'check', 'face', 'read', 'pm', 'learn', 'service', 'essential', 'coronavirusupdate', 'flattenthecurve', 'walk', 'challenge', 'online', 'information', 'provide', 'link', 'create', 'virtual', 'thought', 'class', 'email', 'gt', 'prepare', 'drop', 'article', 'beautiful', 'coronavirusupdates', 'meeting', 'special', 'photo', 'zoom', 'boston', 'require', 'awesome', 'socialdistanacing', 'worth', 'honor', 'track', 'healthcareheroes', 'neighborhood', 'district', 'app', 'medtwitter', 'connect', 'lesson', 'helpful', 'massachusetts', 'shot']\n",
      "sbj16 ['test', 'take', 'health', 'care', 'positive', 'country', 'patient', 'public', 'doctor', 'without', 'texas', 'symptom', 'become', 'result', 'disease', 'vaccine', 'event', 'nation', 'woman', 'treat', 'age', 'treatment', 'ventilator', 'allow', 'ppl', 'black', 'history', 'measure', 'late', 'site', 'body', 'study', 'expose', 'drug', 'facility', 'note', 'major', 'icu', 'ship', 'half', 'virginia', 'negative', 'source', 'cost', 'fox', 'condition', 'west', 'shortage', 'er', 'mental']\n",
      "sbj17 ['make', 'know', 'thank', 'mask', 'call', 'way', 'could', 'fight', 'ask', 'covid19', 'continue', 'line', 'protect', 'hour', 'wear', 'team', 'already', 'nurse', 'grocery', 'bad', 'nothing', 'front', 'point', 'ppe', 'drive', 'mom', 'tweet', 'add', 'handle', 'weekend', 'grateful', 'decision', 'list', 'easter', 'saw', 'pick', 'etc', 'senior', 'deliver', 'walmart', 'difficult', 'glove', 'personal', 'truly', 'protection', 'trip', 'dad', 'closure', 'sell', 'thru']\n"
     ]
    },
    {
     "name": "stdout",
     "output_type": "stream",
     "text": [
      "sbj18 ['us', 'come', 'family', 'world', 'support', 'friend', 'covid19', 'together', 'house', 'sure', 'hear', 'play', 'man', 'word', 'italy', 'member', 'game', 'stand', 'able', 'turn', 'vote', 'message', 'pass', 'rest', 'oh', 'group', 'different', 'consider', 'colleague', 'entire', 'appreciate', 'wife', 'clear', 'behind', 'dear', 'worst', 'ahead', 'battle', 'struggle', 'despite', 'brother', 'friends', 'fan', 'election', 'sister', 'warn', 'partner', 'humanity', 'italian', 'choice']\n",
      "sbj19 ['hope', 'thanks', 'talk', 'next', 'covid19', 'around', 'happen', 'free', 'question', 'important', 'yall', 'listen', 'story', 'post', 'always', 'guy', 'medium', 'leadership', 'leader', 'lead', 'data', 'step', 'proud', 'info', 'matter', 'especially', 'expert', 'write', 'science', 'neighbor', 'nice', 'episode', 'win', 'podcast', 'sense', 'bc', 'bless', 'huge', 'interview', 'project', 'teach', 'easy', 'host', 'example', 'fill', 'remind', 'mentalhealth', 'colorado', 'activity', 'beyond']\n",
      "bcg0 ['day', 'one', 'much', 'morning', 'run', 'paper', 'person', 'night', 'travel', 'toilet', 'wonder', 'head', 'friday', 'true', 'clean', 'mind', 'control', 'street', 'worse', 'panic', 'pretty', 'second', 'georgia', 'almost', 'los', 'sit', 'town', 'angeles', 'cough', 'coronavirus', 'later', 'beat', 'low', 'houston', 'roll', 'atlanta', 'empty', 'mother', 'ya', 'toiletpaper', 'workout', 'rise', 'exactly', 'wuhan', 'hot', 'covid19', 'hang', 'exercise', 'dallas', 'fever']\n"
     ]
    }
   ],
   "source": [
    "for topic_name in model_artm_tweets.topic_names:\n",
    "    print(topic_name, model_artm_tweets.score_tracker[\"top_words\"].last_tokens[topic_name])"
   ]
  },
  {
   "cell_type": "code",
   "execution_count": 28,
   "metadata": {},
   "outputs": [],
   "source": [
    "# phi2 = model_artm_tweets.get_phi()\n",
    "# print(phi2)\n",
    "# theta2 = model_artm_tweets.get_theta()\n",
    "# print(theta2)"
   ]
  },
  {
   "cell_type": "markdown",
   "metadata": {},
   "source": [
    "## Добавляем регуляризаторы"
   ]
  },
  {
   "cell_type": "code",
   "execution_count": null,
   "metadata": {},
   "outputs": [],
   "source": [
    "# model_artm_tweets.regularizers.add(artm.DecorrelatorPhiRegularizer(name='DecorrelatorPhi', tau=2.5e+5))\n",
    "# model_artm_tweets.regularizers['DecorrelatorPhi'].tau = 2e+6"
   ]
  },
  {
   "cell_type": "code",
   "execution_count": null,
   "metadata": {},
   "outputs": [],
   "source": [
    "# model_artm_tweets.fit_offline(batch_vectorizer=batch_vectorizer, num_collection_passes=20)"
   ]
  },
  {
   "cell_type": "code",
   "execution_count": null,
   "metadata": {},
   "outputs": [],
   "source": [
    "# print(model_artm_tweets.score_tracker[\"SparsityPhiScore\"].last_value)\n",
    "# print(model_artm_tweets.score_tracker[\"SparsityThetaScore\"].last_value)\n",
    "# print(model_artm_tweets.score_tracker[\"PerplexityScore\"].last_value)"
   ]
  },
  {
   "cell_type": "code",
   "execution_count": null,
   "metadata": {},
   "outputs": [],
   "source": [
    "# plt.plot(model_artm_tweets.score_tracker[\"PerplexityScore\"].value[1:])"
   ]
  },
  {
   "cell_type": "code",
   "execution_count": null,
   "metadata": {},
   "outputs": [],
   "source": [
    "# plt.plot(model_artm_tweets.score_tracker[\"SparsityPhiScore\"].value)"
   ]
  },
  {
   "cell_type": "code",
   "execution_count": null,
   "metadata": {},
   "outputs": [],
   "source": [
    "# plt.plot(model_artm_tweets.score_tracker[\"SparsityThetaScore\"].value)"
   ]
  },
  {
   "cell_type": "code",
   "execution_count": null,
   "metadata": {},
   "outputs": [],
   "source": [
    "# for topic_name in model_artm_tweets.topic_names:\n",
    "#     print(topic_name, model_artm_tweets.score_tracker[\"top_words\"].last_tokens[topic_name])"
   ]
  },
  {
   "cell_type": "markdown",
   "metadata": {},
   "source": [
    "### Сглаживающий регуляризатор"
   ]
  },
  {
   "cell_type": "code",
   "execution_count": 68,
   "metadata": {},
   "outputs": [],
   "source": [
    "# class_ids:class_ids=[\"text\"] для применения регуляризатора только к некоторым модальностям\n",
    "model_artm_tweets.regularizers.add(artm.SmoothSparsePhiRegularizer(name='SparsePhi', class_ids={\"text\":1}, tau=100, \n",
    "                                topic_names = [\"bcg\"+str(i) for i in range(F)], dictionary=dictionary), overwrite=True)"
   ]
  },
  {
   "cell_type": "code",
   "execution_count": 69,
   "metadata": {},
   "outputs": [],
   "source": [
    "model_artm_tweets.regularizers['SparsePhi'].tau = 3e+6"
   ]
  },
  {
   "cell_type": "code",
   "execution_count": 71,
   "metadata": {},
   "outputs": [
    {
     "data": {
      "application/vnd.jupyter.widget-view+json": {
       "model_id": "7764bb2f958a44048b932f82bfdd2ed3",
       "version_major": 2,
       "version_minor": 0
      },
      "text/plain": [
       "HBox(children=(FloatProgress(value=0.0, description='Pass', max=20.0, style=ProgressStyle(description_width='i…"
      ]
     },
     "metadata": {},
     "output_type": "display_data"
    },
    {
     "data": {
      "application/vnd.jupyter.widget-view+json": {
       "model_id": "",
       "version_major": 2,
       "version_minor": 0
      },
      "text/plain": [
       "HBox(children=(FloatProgress(value=0.0, description='Batch', max=3362.0, style=ProgressStyle(description_width…"
      ]
     },
     "metadata": {},
     "output_type": "display_data"
    },
    {
     "data": {
      "application/vnd.jupyter.widget-view+json": {
       "model_id": "",
       "version_major": 2,
       "version_minor": 0
      },
      "text/plain": [
       "HBox(children=(FloatProgress(value=0.0, description='Batch', max=3362.0, style=ProgressStyle(description_width…"
      ]
     },
     "metadata": {},
     "output_type": "display_data"
    },
    {
     "data": {
      "application/vnd.jupyter.widget-view+json": {
       "model_id": "",
       "version_major": 2,
       "version_minor": 0
      },
      "text/plain": [
       "HBox(children=(FloatProgress(value=0.0, description='Batch', max=3362.0, style=ProgressStyle(description_width…"
      ]
     },
     "metadata": {},
     "output_type": "display_data"
    },
    {
     "data": {
      "application/vnd.jupyter.widget-view+json": {
       "model_id": "",
       "version_major": 2,
       "version_minor": 0
      },
      "text/plain": [
       "HBox(children=(FloatProgress(value=0.0, description='Batch', max=3362.0, style=ProgressStyle(description_width…"
      ]
     },
     "metadata": {},
     "output_type": "display_data"
    },
    {
     "data": {
      "application/vnd.jupyter.widget-view+json": {
       "model_id": "",
       "version_major": 2,
       "version_minor": 0
      },
      "text/plain": [
       "HBox(children=(FloatProgress(value=0.0, description='Batch', max=3362.0, style=ProgressStyle(description_width…"
      ]
     },
     "metadata": {},
     "output_type": "display_data"
    },
    {
     "data": {
      "application/vnd.jupyter.widget-view+json": {
       "model_id": "",
       "version_major": 2,
       "version_minor": 0
      },
      "text/plain": [
       "HBox(children=(FloatProgress(value=0.0, description='Batch', max=3362.0, style=ProgressStyle(description_width…"
      ]
     },
     "metadata": {},
     "output_type": "display_data"
    },
    {
     "data": {
      "application/vnd.jupyter.widget-view+json": {
       "model_id": "",
       "version_major": 2,
       "version_minor": 0
      },
      "text/plain": [
       "HBox(children=(FloatProgress(value=0.0, description='Batch', max=3362.0, style=ProgressStyle(description_width…"
      ]
     },
     "metadata": {},
     "output_type": "display_data"
    },
    {
     "data": {
      "application/vnd.jupyter.widget-view+json": {
       "model_id": "",
       "version_major": 2,
       "version_minor": 0
      },
      "text/plain": [
       "HBox(children=(FloatProgress(value=0.0, description='Batch', max=3362.0, style=ProgressStyle(description_width…"
      ]
     },
     "metadata": {},
     "output_type": "display_data"
    },
    {
     "data": {
      "application/vnd.jupyter.widget-view+json": {
       "model_id": "",
       "version_major": 2,
       "version_minor": 0
      },
      "text/plain": [
       "HBox(children=(FloatProgress(value=0.0, description='Batch', max=3362.0, style=ProgressStyle(description_width…"
      ]
     },
     "metadata": {},
     "output_type": "display_data"
    },
    {
     "data": {
      "application/vnd.jupyter.widget-view+json": {
       "model_id": "",
       "version_major": 2,
       "version_minor": 0
      },
      "text/plain": [
       "HBox(children=(FloatProgress(value=0.0, description='Batch', max=3362.0, style=ProgressStyle(description_width…"
      ]
     },
     "metadata": {},
     "output_type": "display_data"
    },
    {
     "data": {
      "application/vnd.jupyter.widget-view+json": {
       "model_id": "",
       "version_major": 2,
       "version_minor": 0
      },
      "text/plain": [
       "HBox(children=(FloatProgress(value=0.0, description='Batch', max=3362.0, style=ProgressStyle(description_width…"
      ]
     },
     "metadata": {},
     "output_type": "display_data"
    },
    {
     "data": {
      "application/vnd.jupyter.widget-view+json": {
       "model_id": "",
       "version_major": 2,
       "version_minor": 0
      },
      "text/plain": [
       "HBox(children=(FloatProgress(value=0.0, description='Batch', max=3362.0, style=ProgressStyle(description_width…"
      ]
     },
     "metadata": {},
     "output_type": "display_data"
    },
    {
     "data": {
      "application/vnd.jupyter.widget-view+json": {
       "model_id": "",
       "version_major": 2,
       "version_minor": 0
      },
      "text/plain": [
       "HBox(children=(FloatProgress(value=0.0, description='Batch', max=3362.0, style=ProgressStyle(description_width…"
      ]
     },
     "metadata": {},
     "output_type": "display_data"
    },
    {
     "data": {
      "application/vnd.jupyter.widget-view+json": {
       "model_id": "",
       "version_major": 2,
       "version_minor": 0
      },
      "text/plain": [
       "HBox(children=(FloatProgress(value=0.0, description='Batch', max=3362.0, style=ProgressStyle(description_width…"
      ]
     },
     "metadata": {},
     "output_type": "display_data"
    },
    {
     "data": {
      "application/vnd.jupyter.widget-view+json": {
       "model_id": "",
       "version_major": 2,
       "version_minor": 0
      },
      "text/plain": [
       "HBox(children=(FloatProgress(value=0.0, description='Batch', max=3362.0, style=ProgressStyle(description_width…"
      ]
     },
     "metadata": {},
     "output_type": "display_data"
    },
    {
     "data": {
      "application/vnd.jupyter.widget-view+json": {
       "model_id": "",
       "version_major": 2,
       "version_minor": 0
      },
      "text/plain": [
       "HBox(children=(FloatProgress(value=0.0, description='Batch', max=3362.0, style=ProgressStyle(description_width…"
      ]
     },
     "metadata": {},
     "output_type": "display_data"
    },
    {
     "data": {
      "application/vnd.jupyter.widget-view+json": {
       "model_id": "",
       "version_major": 2,
       "version_minor": 0
      },
      "text/plain": [
       "HBox(children=(FloatProgress(value=0.0, description='Batch', max=3362.0, style=ProgressStyle(description_width…"
      ]
     },
     "metadata": {},
     "output_type": "display_data"
    },
    {
     "data": {
      "application/vnd.jupyter.widget-view+json": {
       "model_id": "",
       "version_major": 2,
       "version_minor": 0
      },
      "text/plain": [
       "HBox(children=(FloatProgress(value=0.0, description='Batch', max=3362.0, style=ProgressStyle(description_width…"
      ]
     },
     "metadata": {},
     "output_type": "display_data"
    },
    {
     "data": {
      "application/vnd.jupyter.widget-view+json": {
       "model_id": "",
       "version_major": 2,
       "version_minor": 0
      },
      "text/plain": [
       "HBox(children=(FloatProgress(value=0.0, description='Batch', max=3362.0, style=ProgressStyle(description_width…"
      ]
     },
     "metadata": {},
     "output_type": "display_data"
    },
    {
     "data": {
      "application/vnd.jupyter.widget-view+json": {
       "model_id": "",
       "version_major": 2,
       "version_minor": 0
      },
      "text/plain": [
       "HBox(children=(FloatProgress(value=0.0, description='Batch', max=3362.0, style=ProgressStyle(description_width…"
      ]
     },
     "metadata": {},
     "output_type": "display_data"
    },
    {
     "name": "stdout",
     "output_type": "stream",
     "text": [
      "\n",
      "Wall time: 2min 24s\n"
     ]
    }
   ],
   "source": [
    "%%time\n",
    "model_artm_tweets.fit_offline(batch_vectorizer=batch_vectorizer, num_collection_passes=20)"
   ]
  },
  {
   "cell_type": "code",
   "execution_count": 72,
   "metadata": {},
   "outputs": [
    {
     "name": "stdout",
     "output_type": "stream",
     "text": [
      "0.8606791496276855\n",
      "0.005910330917686224\n",
      "1764.7720947265625\n"
     ]
    }
   ],
   "source": [
    "print (model_artm_tweets.score_tracker[\"SparsityPhiScore\"].last_value)\n",
    "print (model_artm_tweets.score_tracker[\"SparsityThetaScore\"].last_value)\n",
    "print (model_artm_tweets.score_tracker[\"PerplexityScore\"].last_value)"
   ]
  },
  {
   "cell_type": "code",
   "execution_count": 73,
   "metadata": {},
   "outputs": [
    {
     "data": {
      "text/plain": [
       "[<matplotlib.lines.Line2D at 0x105350b8>]"
      ]
     },
     "execution_count": 73,
     "metadata": {},
     "output_type": "execute_result"
    },
    {
     "data": {
      "image/png": "[encoded data removed]",
      "text/plain": [
       "<Figure size 432x288 with 1 Axes>"
      ]
     },
     "metadata": {
      "needs_background": "light"
     },
     "output_type": "display_data"
    }
   ],
   "source": [
    "plt.plot(model_artm_tweets.score_tracker[\"PerplexityScore\"].value[1:])"
   ]
  },
  {
   "cell_type": "code",
   "execution_count": 74,
   "metadata": {},
   "outputs": [
    {
     "data": {
      "text/plain": [
       "[<matplotlib.lines.Line2D at 0x1055f278>]"
      ]
     },
     "execution_count": 74,
     "metadata": {},
     "output_type": "execute_result"
    },
    {
     "data": {
      "image/png": "[encoded data removed]",
      "text/plain": [
       "<Figure size 432x288 with 1 Axes>"
      ]
     },
     "metadata": {
      "needs_background": "light"
     },
     "output_type": "display_data"
    }
   ],
   "source": [
    "plt.plot(model_artm_tweets.score_tracker[\"SparsityThetaScore\"].value)"
   ]
  },
  {
   "cell_type": "code",
   "execution_count": 75,
   "metadata": {},
   "outputs": [
    {
     "data": {
      "text/plain": [
       "[<matplotlib.lines.Line2D at 0x1051bf98>]"
      ]
     },
     "execution_count": 75,
     "metadata": {},
     "output_type": "execute_result"
    },
    {
     "data": {
      "image/png": "[encoded data removed]",
      "text/plain": [
       "<Figure size 432x288 with 1 Axes>"
      ]
     },
     "metadata": {
      "needs_background": "light"
     },
     "output_type": "display_data"
    }
   ],
   "source": [
    "plt.plot(model_artm_tweets.score_tracker[\"SparsityPhiScore\"].value)"
   ]
  },
  {
   "cell_type": "code",
   "execution_count": 76,
   "metadata": {},
   "outputs": [],
   "source": [
    "#phi2 = model_artm_tweets.get_phi()\n",
    "#print(phi2)\n",
    "#phi2.to_csv('20_2\\\\phi2.csv')\n",
    "#theta2 = model_artm_tweets.get_theta()\n",
    "#print(theta2)\n",
    "#theta2.to_csv('20_2\\\\theta2.csv')"
   ]
  },
  {
   "cell_type": "code",
   "execution_count": 80,
   "metadata": {},
   "outputs": [
    {
     "name": "stdout",
     "output_type": "stream",
     "text": [
      "sbj0 ['see', 'week', 'covid19', 'use', 'first', 'order', 'try', 'last', 'share', 'since', 'two', 'break', 'little', 'april', 'bring', 'night', 'march', 'issue', 'ago', 'st', 'child', 'safety', 'action', 'hero', 'church', 'air', 'contact', 'slow', 'ohio', 'past', 'amaze', 'return', 'three', 'resident', 'currently', 'limit', 'meal', 'responder', 'couple', 'picture', 'schedule', 'comment', 'figure', 'mother', 'reduce', 'illinois', 'thursday', 'relate', 'tuesday', 'large']\n",
      "sbj1 ['coronavirus', 'covid', 'stayhome', 'stayathome', 'nyc', 'president', 'usa', 'staysafe', 'coronavirususa', 'youtube', 'stayhomesavelives', 'washyourhands', 'coronaoutbreak', 'spring', 'shelterinplace', 'lol', 'newyork', 'covidiots', 'joke', 'stayhealthy', 'funny', 'donald', 'brooklyn', 'toiletpaper', 'nature', 'viral', 'savelives', 'stopthespread', 'mr', 'photography', 'forever', 'manhattan', 'comfort', 'saferathome', 'coronavirusnewyork', 'donaldtrump', 'repost', 'newyorkcity', '2020', 'besafe', 'kag', 'coronaupdate', 'meanwhile', 'channel', 'who', 'sundaythoughts', 'covd19', 'trump2020', 'coronavirusnyc', 'relax']\n",
      "sbj2 ['nt', 'virus', 'want', 'ca', 'stop', 'year', 'really', 'corona', 'school', 'california', 'china', 'kid', 'mean', 'something', 'fuck', 'kill', 'everything', 'na', 'yet', 'wo', 'cancel', 'person', 'old', 'cause', 'gon', 'maybe', 'seem', 'seriously', 'flu', 'truth', 'parent', 'reason', 'worry', 'guess', 'party', 'panic', 'wrong', 'blame', 'chinese', 'teacher', 'mind', 'san', 'imagine', 'stupid', 'ai', 'stuff', 'idiot', 'heard', 'gavinnewsom', 'coronavirustruth']\n",
      "sbj3 ['please', 'love', 'live', 'due', 'put', 'place', 'join', 'risk', 'tonight', 'believe', 'tomorrow', 'hey', 'force', 'music', 'ready', 'pray', 'high', 'head', 'season', 'light', 'sport', 'monday', 'la', 'future', 'heart', 'prayer', 'expect', 'book', 'unemployment', 'mayor', 'tv', 'shelter', 'song', 'brief', 'tune', 'amid', 'fire', 'north', 'beat', 'fall', 'nba', 'covid19', 'record', 'along', 'college', 'suspend', 'losangeles', 'postpone', 'discuss', 'later']\n",
      "sbj4 ['new', 'say', 'case', 'state', 'death', 'covid19', 'city', 'number', 'county', 'york', 'report', 'florida', 'morning', 'governor', 'th', 'confirm', 'travel', 'total', 'beach', 'nygovcuomo', 'latest', 'yesterday', 'rate', 'ny', 'official', 'friday', 'increase', 'announce', 'per', 'gov', 'top', 'united', 'south', 'almost', 'recover', 'rise', 'population', 'breaking', 'toll', 'cuomo', 'michigan', 'department', 'accord', 'govrondesantis', 'mass', 'police', 'ban', 'worldwide', 'jersey', 'nj']\n",
      "sbj5 ['amp', 'news', 'business', 'american', 'response', 'food', 'local', 'impact', 'sign', 'money', 'include', 'small', 'donate', 'bill', 'covid19', 'fact', 'relief', 'white', 'market', 'fund', 'name', 'twitter', 'economic', 'georgia', 'power', 'facebook', 'stimulus', 'congress', 'program', 'recovery', 'page', 'raise', 'tax', 'owner', 'donation', 'republican', 'bank', 'financial', 'poor', 'loan', 'ignore', 'breakingnews', 'animal', 'aid', 'petition', 'encourage', 'delay', 'organization', 'account', 'gop']\n",
      "sbj6 ['get', 'people', 'think', 'would', 'let', 'well', 'back', 'die', 'open', 'covid19', 'real', 'wait', 'someone', 'sick', 'covid2019', 'do', 'soon', 'might', 'folk', 'human', 'whole', 'wonder', 'understand', 'begin', 'idea', 'situation', 'actually', 'minute', 'ok', 'stock', 'worse', 'cut', 'shop', 'effect', 'though', 'washington', 'literally', 'anxiety', 'explain', 'glad', 'grow', 'smart', 'hair', 'hop', 'elderly', 'perfect', 'ta', 'living', 'quickly', 'hurt']\n",
      "sbj7 ['need', 'help', 'covid19', 'spread', 'crisis', 'community', 'hospital', 'may', 'job', 'medical', 'student', 'must', 'part', 'million', 'others', 'send', 'emergency', 'economy', 'staff', 'supply', 'move', 'hit', 'act', 'center', 'effort', 'offer', 'professional', 'across', 'package', 'receive', 'serve', 'access', 'focus', 'level', 'industry', 'critical', 'thousand', 'bed', 'demand', 'vulnerable', 'opportunity', 'speakerpelosi', 'urge', 'build', 'volunteer', 'individual', 'ensure', 'contract', 'homeless', 'senatemajldr']\n",
      "sbj8 ['work', 'right', 'look', 'many', 'give', 'worker', 'healthcare', 'pay', 'covid19', 'america', 'leave', 'change', 'lose', 'government', 'hard', 'employee', 'enough', 'company', 'shut', 'anything', 'instead', 'less', 'forget', 'federal', 'customer', 'hoax', 'joebiden', 'administration', 'trust', 'citizen', 'hell', 'frontline', 'policy', 'absolutely', 'benefit', 'push', 'charge', 'law', 'attention', 'either', 'democrat', 'price', 'rent', 'amazon', 'flight', 'wipe', 'wtf', 'campaign', 'fast', 'exactly']\n",
      "sbj9 ['covid19', 'home', 'stay', 'keep', 'safe', 'social', 'distancing', 'follow', 'distance', 'daily', 'healthy', 'practice', 'least', 'area', 'clean', 'strong', 'possible', 'tip', 'infect', 'serious', 'room', 'prevent', 'reach', 'infection', 'remain', 'blood', 'avoid', 'course', 'advice', 'notice', 'count', 'young', 'guideline', 'space', 'socialdistance', 'fly', 'common', 'effective', 'exercise', 'scary', 'suggest', 'busy', 'inform', 'publichealth', 'crowd', 'golf', 'peak', 'six', 'guidance', 'maintain']\n",
      "sbj10 ['like', 'coronavirusoutbreak', 'good', 'everyone', 'even', 'watch', 'outbreak', 'feel', 'hand', 'anyone', 'covid19', 'lot', 'god', 'long', 'big', 'else', 'wash', 'deal', 'normal', 'wish', 'coronapocalypse', 'problem', 'damn', 'finally', 'sad', 'eat', 'moment', 'movie', 'coronapocolypse', 'phone', 'kind', 'pretty', 'water', 'catch', 'survive', 'second', 'sit', 'dead', 'touch', 'probably', 'baby', 'realize', 'drink', 'birthday', 'as', 'reminder', 'son', 'sanitizer', 'sorry', 'longer']\n",
      "sbj11 ['day', 'quarantine', 'socialdistancing', 'life', 'thing', 'lockdown', 'covid19', 'quarantinelife', 'never', 'video', 'save', 'miss', 'happy', 'remember', 'shit', 'yes', 'isolation', 'fun', 'dog', 'street', 'empty', 'stayhomestaysafe', 'art', 'self', 'side', 'sunday', 'chicago', 'alone', 'favorite', 'sound', 'wake', 'decide', 'quarantineandchill', 'meme', 'reality', 'saturday', 'spend', 'netflix', 'laugh', 'dc', 'quaratinelife', 'selfquarantine', 'suppose', 'workfromhome', 'bit', 'definitely', 'miami', 'coronaviruslockdown', 'sleep', 'smile']\n",
      "sbj12 ['covid_19', 'go', 'coronaviruspandemic', 'today', 'still', 'close', 'start', 'every', 'month', 'end', 'store', 'away', 'park', 'buy', 'restaurant', 'office', 'outside', 'far', 'visit', 'car', 'inside', 'enjoy', 'delivery', 'bar', 'date', 'shutdown', 'door', 'foot', 'seattle', 'rule', 'chance', 'stick', 'extend', 'disinfectant', 'covid19us', 'suck', 'cool', 'yeah', 'beer', 'afternoon', 'felt', 'officially', 'apart', 'stayathomeorder', 'coronacrisis', 'lysol', 'mile', 'earlier', 'traffic', 'club']\n",
      "sbj13 ['covid19', 'trump', 'realdonaldtrump', 'tell', 'plan', 'dr', 'potus', 'cnn', 'hold', 'lie', 'resource', 'national', 'press', 'available', 'conference', 'cdc', 'foxnews', 'reopen', 'early', 'control', 'meet', 'cdcgov', 'fauci', 'whitehouse', 'trumpvirus', 'forward', 'regard', 'fail', 'vp', 'address', 'base', 'agree', 'gop', 'interest', 'curve', 'msnbc', 'research', 'briefing', 'claim', 'website', 'political', 'detail', 'abc', 'view', 'solution', 'attack', 'general', 'loss', 'medicine', 'key']\n",
      "sbj14 ['time', 'pandemic', 'covid19', 'great', 'show', 'also', 'find', 'best', 'another', 'ever', 'full', 'system', 'global', 'fear', 'cover', 'affect', 'crazy', 'set', 'experience', 'concern', 'release', 'speak', 'better', 'current', 'thread', 'coronalockdown', 'wow', 'war', 'maga', 'cure', 'education', 'lack', 'covid19pandemic', 'stress', 'single', 'stayathomeandstaysafe', 'respond', 'thankful', 'piece', 'immune', 'tough', 'husband', 'short', 'politics', 'workingfromhome', 'manage', 'excellent', 'senator', 'however', 'lady']\n",
      "sbj15 ['covid19', 'update', 'via', 'check', 'face', 'read', 'pm', 'learn', 'service', 'essential', 'coronavirusupdate', 'flattenthecurve', 'walk', 'challenge', 'online', 'information', 'provide', 'link', 'create', 'virtual', 'thought', 'class', 'gt', 'coronavirusupdates', 'email', 'prepare', 'article', 'drop', 'beautiful', 'town', 'meeting', 'special', 'photo', 'zoom', 'boston', 'require', 'awesome', 'socialdistanacing', 'worth', 'honor', 'track', 'healthcareheroes', 'neighborhood', 'connect', 'district', 'complete', 'app', 'medtwitter', 'lesson', 'massachusetts']\n",
      "sbj16 ['test', 'take', 'one', 'health', 'care', 'positive', 'country', 'patient', 'public', 'doctor', 'without', 'texas', 'symptom', 'allow', 'become', 'result', 'disease', 'vaccine', 'event', 'nation', 'woman', 'covid19', 'treat', 'ventilator', 'treatment', 'age', 'ppl', 'black', 'history', 'measure', 'site', 'late', 'body', 'likely', 'study', 'expose', 'low', 'drug', 'facility', 'houston', 'note', 'major', 'icu', 'gym', 'ship', 'negative', 'virginia', 'half', 'fox', 'shortage']\n",
      "sbj17 ['make', 'know', 'thank', 'mask', 'call', 'way', 'covid19', 'could', 'fight', 'ask', 'continue', 'line', 'run', 'protect', 'hour', 'wear', 'team', 'already', 'grocery', 'nurse', 'bad', 'nothing', 'front', 'point', 'ppe', 'drive', 'mom', 'tweet', 'add', 'handle', 'weekend', 'grateful', 'decision', 'list', 'easter', 'etc', 'saw', 'pick', 'senior', 'deliver', 'walmart', 'glove', 'difficult', 'personal', 'sell', 'everyday', 'truly', 'protection', 'trip', 'dad']\n"
     ]
    },
    {
     "name": "stdout",
     "output_type": "stream",
     "text": [
      "sbj18 ['us', 'come', 'family', 'covid19', 'world', 'support', 'friend', 'together', 'house', 'sure', 'hear', 'play', 'man', 'word', 'italy', 'member', 'game', 'stand', 'able', 'turn', 'vote', 'message', 'pass', 'one', 'consider', 'rest', 'oh', 'group', 'different', 'colleague', 'entire', 'appreciate', 'wife', 'clear', 'behind', 'dear', 'worst', 'ahead', 'battle', 'struggle', 'despite', 'brother', 'friends', 'election', 'fan', 'sister', 'partner', 'warn', 'italian', 'humanity']\n",
      "sbj19 ['covid19', 'much', 'hope', 'thanks', 'talk', 'next', 'around', 'happen', 'free', 'question', 'important', 'yall', 'listen', 'story', 'post', 'always', 'medium', 'guy', 'leadership', 'leader', 'lead', 'data', 'step', 'proud', 'true', 'info', 'especially', 'matter', 'answer', 'expert', 'write', 'science', 'neighbor', 'nice', 'episode', 'win', 'podcast', 'sense', 'bc', 'bless', 'interview', 'huge', 'project', 'teach', 'easy', 'host', 'example', 'fill', 'rather', 'amazing']\n",
      "bcg0 ['covid19', 'coronavirus', 'nt', 'covid_19', 'amp', 'get', 'people', 'go', 'coronaviruspandemic', 'time', 'us', 'pandemic', 'need', 'day', 'work', 'like', 'new', 'make', 'home', 'say', 'one', 'take', 'test', 'help', 'quarantine', 'today', 'covid', 'stay', 'know', 'case', 'trump', 'see', 'virus', 'stayhome', 'realdonaldtrump', 'please', 'think', 'socialdistancing', 'life', 'week', 'come', 'coronavirusoutbreak', 'state', 'thank', 'would', 'right', 'keep', 'health', 'good', 'want']\n"
     ]
    }
   ],
   "source": [
    "for topic_name in model_artm_tweets.topic_names:\n",
    "    print(topic_name, model_artm_tweets.score_tracker[\"top_words\"].last_tokens[topic_name])"
   ]
  },
  {
   "cell_type": "markdown",
   "metadata": {},
   "source": [
    "### Разреживающий регуляризатор"
   ]
  },
  {
   "cell_type": "code",
   "execution_count": 81,
   "metadata": {},
   "outputs": [],
   "source": [
    "model_artm_tweets.regularizers.add(artm.SmoothSparsePhiRegularizer(name='SparsePhi',class_ids={\"text\":1}, tau=-100, \n",
    "                            topic_names = [\"sbj\"+str(i) for i in range(T)], dictionary=dictionary), overwrite=True)"
   ]
  },
  {
   "cell_type": "code",
   "execution_count": 82,
   "metadata": {},
   "outputs": [],
   "source": [
    "#model_artm_tweets.regularizers['SparseTheta'].tau = -0.7\n",
    "model_artm_tweets.regularizers['SparsePhi'].tau = -5*1e6"
   ]
  },
  {
   "cell_type": "code",
   "execution_count": 96,
   "metadata": {},
   "outputs": [
    {
     "data": {
      "application/vnd.jupyter.widget-view+json": {
       "model_id": "3a3f932242d14c13afa146c4c5f6b2cb",
       "version_major": 2,
       "version_minor": 0
      },
      "text/plain": [
       "HBox(children=(FloatProgress(value=0.0, description='Pass', max=10.0, style=ProgressStyle(description_width='i…"
      ]
     },
     "metadata": {},
     "output_type": "display_data"
    },
    {
     "data": {
      "application/vnd.jupyter.widget-view+json": {
       "model_id": "",
       "version_major": 2,
       "version_minor": 0
      },
      "text/plain": [
       "HBox(children=(FloatProgress(value=0.0, description='Batch', max=3362.0, style=ProgressStyle(description_width…"
      ]
     },
     "metadata": {},
     "output_type": "display_data"
    },
    {
     "data": {
      "application/vnd.jupyter.widget-view+json": {
       "model_id": "",
       "version_major": 2,
       "version_minor": 0
      },
      "text/plain": [
       "HBox(children=(FloatProgress(value=0.0, description='Batch', max=3362.0, style=ProgressStyle(description_width…"
      ]
     },
     "metadata": {},
     "output_type": "display_data"
    },
    {
     "data": {
      "application/vnd.jupyter.widget-view+json": {
       "model_id": "",
       "version_major": 2,
       "version_minor": 0
      },
      "text/plain": [
       "HBox(children=(FloatProgress(value=0.0, description='Batch', max=3362.0, style=ProgressStyle(description_width…"
      ]
     },
     "metadata": {},
     "output_type": "display_data"
    },
    {
     "data": {
      "application/vnd.jupyter.widget-view+json": {
       "model_id": "",
       "version_major": 2,
       "version_minor": 0
      },
      "text/plain": [
       "HBox(children=(FloatProgress(value=0.0, description='Batch', max=3362.0, style=ProgressStyle(description_width…"
      ]
     },
     "metadata": {},
     "output_type": "display_data"
    },
    {
     "data": {
      "application/vnd.jupyter.widget-view+json": {
       "model_id": "",
       "version_major": 2,
       "version_minor": 0
      },
      "text/plain": [
       "HBox(children=(FloatProgress(value=0.0, description='Batch', max=3362.0, style=ProgressStyle(description_width…"
      ]
     },
     "metadata": {},
     "output_type": "display_data"
    },
    {
     "data": {
      "application/vnd.jupyter.widget-view+json": {
       "model_id": "",
       "version_major": 2,
       "version_minor": 0
      },
      "text/plain": [
       "HBox(children=(FloatProgress(value=0.0, description='Batch', max=3362.0, style=ProgressStyle(description_width…"
      ]
     },
     "metadata": {},
     "output_type": "display_data"
    },
    {
     "data": {
      "application/vnd.jupyter.widget-view+json": {
       "model_id": "",
       "version_major": 2,
       "version_minor": 0
      },
      "text/plain": [
       "HBox(children=(FloatProgress(value=0.0, description='Batch', max=3362.0, style=ProgressStyle(description_width…"
      ]
     },
     "metadata": {},
     "output_type": "display_data"
    },
    {
     "data": {
      "application/vnd.jupyter.widget-view+json": {
       "model_id": "",
       "version_major": 2,
       "version_minor": 0
      },
      "text/plain": [
       "HBox(children=(FloatProgress(value=0.0, description='Batch', max=3362.0, style=ProgressStyle(description_width…"
      ]
     },
     "metadata": {},
     "output_type": "display_data"
    },
    {
     "data": {
      "application/vnd.jupyter.widget-view+json": {
       "model_id": "",
       "version_major": 2,
       "version_minor": 0
      },
      "text/plain": [
       "HBox(children=(FloatProgress(value=0.0, description='Batch', max=3362.0, style=ProgressStyle(description_width…"
      ]
     },
     "metadata": {},
     "output_type": "display_data"
    },
    {
     "data": {
      "application/vnd.jupyter.widget-view+json": {
       "model_id": "",
       "version_major": 2,
       "version_minor": 0
      },
      "text/plain": [
       "HBox(children=(FloatProgress(value=0.0, description='Batch', max=3362.0, style=ProgressStyle(description_width…"
      ]
     },
     "metadata": {},
     "output_type": "display_data"
    },
    {
     "name": "stdout",
     "output_type": "stream",
     "text": [
      "\n",
      "Wall time: 1min 13s\n"
     ]
    }
   ],
   "source": [
    "%%time\n",
    "model_artm_tweets.fit_offline(batch_vectorizer=batch_vectorizer, num_collection_passes=10)"
   ]
  },
  {
   "cell_type": "code",
   "execution_count": 86,
   "metadata": {
    "scrolled": false
   },
   "outputs": [
    {
     "name": "stdout",
     "output_type": "stream",
     "text": [
      "sbj0 ['responder', 'govmikedewine', 'dramyacton', 'inthistogetherohio', 'oregongovbrown', 'temple', 'nyphospital', 'dental', 'dentist', 'ohdeptofhealth', 'mikedewine', 'baptist', 'interpreter', 'ry', 'sinai', 'asl', 'clevelandclinic', 'sk', 'wpro', 'moines', 'dentistry', 'unsung', 'emergencydentist', 'biologicaldentistry', 'dryani', 'yubasutter', 'emergencydentistry', 'dryani212', 'holisticdentistry', 'ruth', 'rotation', 'ltgovhusted', 'wearenorthtexas', 'holistic', 'wsyx', 'kimreynoldsia', 'orpol', 'statehouse', 'uwmedicine', 'weillcornell', 'coronaviruspandemic2020', 'melissa', 'repwelch', 'njsenatepres', 'bozeman', 'downward', 'donna', 'buddhist', 'drcarachrist', 'parishioner']\n",
      "sbj1 ['stayhealthy', 'savelives', 'newyorkcity', 'coronavirusnyc', 'winning', 'tiaump', 'nyccoronavirus', 'stayhomestayhealthy', 'willfullyignorant', 'trumpsamerica', 'qanon', 'blametrump', 'wwg1wga', 'queens', 'quedateencasa', 'absofuckinglutly', 'truthbetold', 'newyorklockdown', 'usnscomfort', 'clapbecausewecare', 'doodle', 'flowers', 'declares', 'usns', 'overtakes', 'williamsburg', 'blackandwhite', 'getrepost', 'tsu23', 'clon', 'glennericnelson', 'centralpark', 'q', 'iloveny', 'covid19nyc', 'djdretakingover89', 'iots', 'blackandwhitephotography', 'virususa', 'conman', 'wedonthavedays2waste', 'wheresmyfreetest', 'graphy', 'truestory', 'thegreatawakening', 'anon', 'naturephotography', 'nuclearoption', 'andstaysafe', 'bepositive']\n",
      "sbj2 ['na', 'gon', 'wan', 'francisco', 'diego', 'wwe', 'viruspandemic', 'wrestlemania', 'elementary', 'ccp', 'originate', 'virusupdate', 'wrestlemania36', 'swine', 'chinesecoronavirus', 'satx', 'chinaliedandpeopledied', 'xi', 'smackdown', 'vincemcmahon', 'worksafe', 'nxt', 'playin', 'aau', 'foryourpage', 'kung', 'pangolin', 'nickname', 'extendedspringbreak', 'lifornia', 'wweuniverse', 'edinburg', 'wwenxt', 'iparkmusic', 'mcmahon', 'instasatx', 'wweraw', 'shyt', 'ccpchina', 'ipark', 'madeinchina', 'wweromanreigns', 'bats', 'haight', 'kenwood', 'givenselementary', 'complaining', 'closenycpublicschools', 'fkn', 'donaldtrumpfailedus']\n",
      "sbj3 ['nba', 'mlb', 'baseball', 'producer', 'hiphop', 'ncaa', 'album', 'nhl', 'rap', 'marchmadness', 'musician', 'newmusic', 'league', 'tournament', 'guitar', 'songwriter', 'jazz', 'hockey', 'foreseeable', 'piano', 'soundcloud', 'ceremony', 'streaming', 'wbz', 'championship', 'marchsadness', 'blessings', 'ian', 'singing', 'futureready', 'recording', 'erate', 'xfl', 'cst', 'beats', 'vocal', 'singersongwriter', 'freestyle', 'mixtape', 'musicproducer', 'livemusic', 'newalbum', 'nbasuspended', 'bracket', 'culvercity', 'suspends', 'bishop', 'synth', 'openingday', 'azmusic']\n",
      "sbj4 ['case', 'york', 'confirm', 'total', 'toll', 'jersey', 'deaths', 'surpass', 'yorkers', 'orleans', 'hospitalization', 'confirmed', 'fatality', 'olympics', 'healthyfla', 'asahutchinson', 'tokyo', 'kitv', 'desantis', 'arnews', 'wkrn', 'rhode', 'broward', 'oahu', 'caput', 'saratoga', 'presumptive', 'govraimondo', 'wpri', 'confirms', 'nbcnewyork', 'surpasses', 'tndeptofhealth', 'jefferson', 'nwanews', 'clara', 'sarasota', 'newswtsp', 'manatee', 'staten', 'considers', 'nwark', 'dade', 'massdph', 'scdhec', 'ioc', 'orida', 'higovhealth', 'ladepthealth', 'govhawaii']\n",
      "sbj5 ['fund', 'stimulus', 'loan', 'petition', 'trillion', 'nonprofit', 'newsnow', 'moneyforthepeople', 'breaking_news', 'breakingnewsnow', 'breakingnow', 'breakingnewz', 'newz', 'genocide', 'caresact', 'ppp', 'housedemocrats', 'stimuluspackage2020', 'liedpeopledied', 'sbagov', 'republicansarekillingus', 'moscowmitch', 'smallbiz', 'sba', 'gopgenocide', 'irs', 'liesamericansdie', 'senwarren', 'nonprofits', 'deposit', 'istheworstpresidentever', 'stimuluspackage', 'icegov', 'payroll', 'proudresister', 'stocks', 'bannerite', 'rudy', 'naphisoc', 'btc', 'crzyfkinworld', 'susanbordo', 'starzwayne', 'arekillingus', 'mg', 'joeexotic', 'slaughterhouse', 'markets', 'relief4charities', 'investing']\n",
      "sbj6 ['ta', 'haircut', 'salon', 'barber', 'boomer', 'zoo', 'washingtonstate', 'cspanwj', 'being', 'stylist', 'cananybodyseeus', 'patiently', 'fired', 'mcb', 'slim', 'stanwood', 'follobackforfolloback', 'ouis', 'floridaprimary', 'remover', 'endtheshutdown', 'follo4follo', 'boca', 'endthelockdownnow', 'fbc', 'infects', 'weddings', 'coronials', 'haircutathome', 'yuma', 'burke', 'kybelle', 'mustache', 'medicalcenterbarbour', 'downfall', 'payton', 'fbccolumbus', 'jw', 'lodi', 'fbcfamily', 'haircuts', 'worsham', 'deepthoughts', 'facepalm', 'ifwhen', 'nostalgic', 'ahisd', 'ahhsmules', 'crazier', 'bellingham']\n",
      "sbj7 ['urge', 'debt', 'stimulate', 'cancelstudentdebt', 'studentdebtstimulus', 'desperately', 'savekansas', 'ksleg', 'worstpresidentever', 'scammer', 'bigotry', 'prejudice', 'impeachedtrump', 'antonioguterres', 'misogynist', 'videooftheday', 'urgently', 'asheville', 'interim', 'underserved', 'senkamalaharris', 'govts', 'asu', 'javits', 'jerryfalwelljr', 'allocation', 'hatefulman', 'invokes', 'ncga', 'uwmadison', 'studentdebt', 'ynhh', 'oott', 'avlnews', 'volunteers', 'medicalsupplies', 'lng', 'fightforgood', 'conartist', 'sengillibrand', 'northwestern', 'osu', 'libertyu', 'senbobcasey', 'unhoused', 'ongt', 'astate', 'homelesscantstayhome', 'umichmedicine', 'copays']\n",
      "sbj8 ['berniesanders', 'dnc', 'mortgage', 'bernie', 'bailout', 'wage', 'medicareforall', 'bail', 'bernie2020', 'socialism', 'gouge', 'ubi', 'hazard', 'sander', 'gopbetrayedamerica', 'notmeus', 'demdebate', 'americanair', 'gopcorruptionovercountry', 'mcconnell', 'hourly', 'sensanders', 'jeffbezos', 'mitch', 'bailoutthepeople', 'comcast', 'bailouts', 'vrbo', 'medicare4all', 'socialist', 'attendant', 'democratsaredestroyingamerica', 'enablers', 'southwestair', 'playinside', 'xfinity', 'boycott', 'jetblue', 'warzone', 'playfortheworld', 'authoritarian', 'teamelite14daymovementchallenge', 'votebluetoendthisnightmare', 'walkaway', 'hobbylobby', 'traitor', 'democratshateamerica', 'expedia', 'schumer', 'gutted']\n",
      "sbj9 ['distancing', 'socially', 'boris', 'blueangels', 'flyover', 'depot', 'governorkayivey', 'afthunderbirds', 'harriscojudge', 'thunderbirds', 'clot', 'houmayor', 'alpublichealth', 'thunderbird', 'alpolitics', 'avgeek', 'stayhomesaveslives', 'oncoalert', 'giveblood', 'mdandersonnews', 'ruralhealth', 'distinguish', 'saveslives', 'quintonlucaskc', 'covidnccc', 'astronaut', 'emptythepews', 'alabamaema', 'hcphtx', 'pauselifenyc', 'losartan', 'audubon', 'blooddonation', 'physicaldistance', 'martholanah', 'protectingtheheartland', 'healthyiowa', 'yourlocaliddoc', 'wtic', 'chula', 'vermonter', 'platelet', 'cccounty', 'dronibee', 'thisis51', 'sweatyselfie', 'dailyburn', 'sagesupdates', 'ouachita', 'ivey']\n",
      "sbj10 ['wash', 'shake', 'hank', 'elbow', 'psalm', 'doomsday', 'rita', 'ritawilson', 'idriselba', 'pocalypse', 'coronavirussa', 'theyknew', 'bidenharris2020', 'pocolypse', 'petri', 'womenintech', 'gopnegligenthomicide', 'liar45', 'dough', 'lookin', 'cupcake', 'biscuit', 'yoda', 'loaf', 'lotion', 'peel', 'babyyoda', 'popeyes', 'fights', 'contagionmovie', 'sour', 'reveriepage', 'covidiotrump', 'all', 'veteransagainsttrump', 'repent', 'martini', 'gloriagaynor', 'castaway', 'babyboom', 'pixar', 'sequel', 'iwillsurvive', 'themandalorian', 'snlathome', 'jedi', 'yeast', 'bottled', 'imarkkeyz', 'edible']\n",
      "sbj11 ['memes', 'coronavirusmemes', 'quarantineactivities', 'andchill', 'bored', 'dogsofinstagram', 'dogs', 'sofinstagram', 'instagood', 'catsofinstagram', 'foodie', 'ofinstagram', 'cats', 'painting', 'ist', 'animalcrossing', 'worldstar', 'dogsoftwitter', 'sketch', 'yummy', 'emptystreets', 'blossom', 'stircrazy', 'drawing', 'animalcrossingnewhorizons', 'catsoftwitter', 'funnymemes', 'extrovert', 'boredinthehouse', 'disruptive', 'quarantinememes', 'quarantinecats', 'cheflife', 'whatdayisit', 'ozark', 'stagram', 'quarantinewatchparty', 'emptynyc', 'spiderman', 'coronavirusmeme', 'corona2020', 'catsofthequarantine', 'zellism', 'happystpatricksday', 'quarantini', 'artistontwitter', 'homage', 'instadaily', 'shrimp', 'igers']\n",
      "sbj12 ['bar', 'takeout', 'pickup', 'curbside', 'inject', 'doordash', 'cbsn', 'togo', 'khou11', 'menu', 'prayfortheworld', 'alwayson', 'ubereats', 'grubhub', 'trustinthelord', 'danceswithrain', 'beresponsible', 'cbsnlive', 'ingest', 'cycling', 'htownrush', 'hiking', 'disinfectantdonnie', 'dinein', 'margarita', 'brewery', 'canceleverythingnow', 'carryout', 'protectothers', 'lauderdale', 'tik', 'covid19seattle', 'postmates', 'tok', 'dontbeapartoftheproblem', 'dine', 'wegotthiswa', 'robjgifford', 'nps', 'moco', 'tcreal', 'nightclubs', 'themasters', 'grinding', 'nationalpark', 'cinemas', 'weinstein', 'setlife', 'rapartist', 'parkchat']\n"
     ]
    },
    {
     "name": "stdout",
     "output_type": "stream",
     "text": [
      "sbj13 ['fauci', 'whitehouse', 'msnbc', 'trumppressconference', 'trumpliespeopledie', 'trumppressconf', 'birx', 'drfauci', 'trumppressbriefing', 'pressconference', 'pressbriefing', 'trumpownseverydeath', 'mikepence', 'trumpviruscoverup', 'trumpplague', 'trumpliesaboutcoronavirus', 'whitehousebriefing', 'yamiche', 'anthony', 'trumpdemic', 'trumpmeltdown', 'trumpisanidiot', 'trumpmadness', 'jaketapper', 'erence', 'liarinchief', 'worstpresidentinhistory', 'maga2020', 'taskforce', 'presssec', 'acosta', 'andersoncooper', 'housegop', 'gopchairwoman', 'impotus', 'podium', 'flotus', 'secpompeo', 'donlemon', 'trumplies', 'trumprecession', 'trumpcrash', '25thamendment', 'oann', 'cnnpolitics', 'ddale', 'trumpisnotadoctor', 'peteralexander', 'atrupar', 'kingtrump']\n",
      "sbj14 ['lgbtq', 'veterans', 'genx', 'aarp', 'indigenous', 'millenials', '1u', 'metoo', 'latinx', 'p2', 'teaparty', 'blm', 'farmers', 'marchforourlives', 'cult', 'independents', 'voteblue', 'decency', 'cybersecurity', 'genz', 'vintage', 'diligently', 'cowardly', 'mustread', 'newssa', 'ukulele', 'kabbfox', 'antique', 'pn', 'decorative', 'nonviolent', 'rugs', 'uncharted', 'sobriety', 'carpets', 'pillows', 'offender', 'phdchat', 'baskin', 'phdlife', 'reddit', 'earthday50', 'mobilealabama', 'downtownmobile', 'downtownmobileal', 'churchstreeteast', 'prey', 'explainer', 'ukulelecover', 'phishing']\n",
      "sbj15 ['zoomus', 'learning', 'teamkentucky', 'eastern', 'togetherky', 'pearl', 'sdoh', 'onlinelearning', 'badge', 'aka1908', 'akasoutheastern', 'perpetual', 'nhpolitics', 'pdoh', 'bostonstrong', 'interdependence', '3dprinting', 'akas', 'covidlife', 'rva', 'somedocs', 'edchat', 'coronavirusmassachusetts', 'edtech', 'elearning', 'interactive', 'theadventuresoflonelygay', 'petsematary', 'rsvp', 'hiap', 'virtuallearning', 'coronakidney', 'readyinglewood', 'cityofboston', 'savetheworld', 'blah', 'billionshieldschallenge', 'billionshields', 'directorgeneral', 'teletown', 'kentuckian', 'cna', 'webex', 'cta', 'onlineclasses', 'teachfromhome', 'zoommeeting', 'sel', 'alma', 'faceshields']\n",
      "sbj16 ['hydroxychloroquine', 'antibody', 'irmaraste', 'evirahealth', 'infectious', 'fda', 'chloroquine', 'swab', 'chronic', 'govparsonmo', 'malaria', 'lupus', 'symptomatic', 'remdesivir', 'rand', 'underlying', 'shortness', 'preexist', 'obesity', 'intensive', 'azithromycin', 'prescribe', 'testvirusnow', 'antibiotic', 'testtraceisolate', 'nasal', 'diagnostic', 'plaquenil', 'experimental', 'kaiser', 'royblunt', 'hcq', 'unproven', 'prevalence', 'gilead', 'covidtesting', 'serology', 'efficacy', 'promising', 'coronavirustesting', 'carnivalcruise', 'referral', 'mco', 'testandtrace', 'pcr', 'wmarnews', 'epaphotos', 'flulike', 'diagnostics', 'digitalhealth']\n",
      "sbj17 ['mask', 'wear', 'glove', 'masks', 'sew', 'masks4all', 'surgical', 'cloth', 'n95', 'gown', 'fabric', 'cashier', 'easter2020', 'bandana', 'reuse', 'nursescovid19', 'n95masks', 'reusable', 'nationaldoctorsday', 'disneyworld', 'ppeshortages', 'sewing', 'lagov', 'n95mask', 'protectnurses', 'lalege', 'latex', 'rubber', 'goggles', 'heartfelt', 'elastic', 'washable', 'masksnow', 'scrubs', 'disneyparks', 'aldi', 'rouge', 'easterbunny', 'masksforall', 'wdw', 'baton', 'f1', 'indycar', 'maskshortage', 'decor', 'walt', 'rochesterny', 'makandicarol', 'shipt', 'cota']\n",
      "sbj18 ['italian', 'con', 'westandwithitaly', 'siamo', 'cari', 'voi', 'amici', 'draft', 'ballot', 'nfldraft', 'condolence', 'nfldraft2020', 'votebymail', 'jeffreestar', 'italycoronavirus', 'changer', 'sportscenter', 'prine', 'johnkrasinski', 'wisconsinprimary', 'absentee', 'diffie', 'maralagovirus', 'wisconsinpandemicvoting', 'elon', 'votersuppression', 'italystaystrong', 'johnprine', 'johnprinemusic', 'mailin', 'joediffieonline', 'thankyoudoctors', 'joediffie', 'thisistrumpsamerica', 'nflfreeagency', 'teletherapy', 'italylockdown', 'steelers', 'thankyounurses', 'jeffreestarapproved', 'ohioprimary', 'continuation', 'endalz', 'nashvilletn', 'openfordelivery', 'marsalis', 'teamphhope', 'musk', 'rabbi', 'karl']\n",
      "sbj19 ['podcast', 'webinar', 'marketing', 'lining', 'podcasts', 'govstitt', 'ufc', 'mentalhealthmatters', 'consultation', 'branding', 'boulder', 'oklaed', 'drmarthagulati', 'digitalmarketing', 'mutualaid', 'transformation', 'blogging', 'healthyoklahoma', 'localgov', 'accintouch', 'iamritu', 'mentalhealthawareness', 'seo', 'contentmarketing', 'mmamas', 'marylandcoronavirus', 'goodkidsmadcity', 'telemednow', 'podcasting', 'coping', 'coronavirusbalt', 'marketingtips', 'marketingstrategy', 'petergabit', 'okleg', 'erinmichos', 'ltgovpinnell', 'anchorapp', 'b2bmarketing', 'copolitics', 'rwang', 'peterhengst', 'oklahoman', 'dbelardomd', 'jaredpolis', 'governorlittle', 'iracing', 'purviparwani', 'channelkwgn', 'amibhattmd']\n",
      "bcg0 ['covid19', 'coronavirus', 'nt', 'covid_19', 'amp', 'get', 'people', 'go', 'coronaviruspandemic', 'time', 'us', 'pandemic', 'need', 'day', 'work', 'like', 'new', 'make', 'home', 'say', 'test', 'one', 'help', 'take', 'quarantine', 'stay', 'today', 'covid', 'know', 'trump', 'see', 'virus', 'realdonaldtrump', 'stayhome', 'please', 'think', 'socialdistancing', 'life', 'week', 'come', 'coronavirusoutbreak', 'state', 'thank', 'would', 'right', 'keep', 'health', 'death', 'good', 'want']\n"
     ]
    }
   ],
   "source": [
    "for topic_name in model_artm_tweets.topic_names:\n",
    "    print(topic_name, model_artm_tweets.score_tracker[\"top_words\"].last_tokens[topic_name])"
   ]
  },
  {
   "cell_type": "code",
   "execution_count": 88,
   "metadata": {},
   "outputs": [
    {
     "name": "stdout",
     "output_type": "stream",
     "text": [
      "0.9523807764053345\n",
      "0.9126815795898438\n",
      "3102.661376953125\n"
     ]
    }
   ],
   "source": [
    "print (model_artm_tweets.score_tracker[\"SparsityPhiScore\"].last_value)\n",
    "print (model_artm_tweets.score_tracker[\"SparsityThetaScore\"].last_value)\n",
    "print (model_artm_tweets.score_tracker[\"PerplexityScore\"].last_value)"
   ]
  },
  {
   "cell_type": "code",
   "execution_count": 89,
   "metadata": {},
   "outputs": [
    {
     "data": {
      "text/plain": [
       "[<matplotlib.lines.Line2D at 0xa92f5c0>]"
      ]
     },
     "execution_count": 89,
     "metadata": {},
     "output_type": "execute_result"
    },
    {
     "data": {
      "image/png": "[encoded data removed]",
      "text/plain": [
       "<Figure size 432x288 with 1 Axes>"
      ]
     },
     "metadata": {
      "needs_background": "light"
     },
     "output_type": "display_data"
    }
   ],
   "source": [
    "plt.plot(model_artm_tweets.score_tracker[\"PerplexityScore\"].value[1:])"
   ]
  },
  {
   "cell_type": "code",
   "execution_count": 90,
   "metadata": {},
   "outputs": [
    {
     "data": {
      "text/plain": [
       "[<matplotlib.lines.Line2D at 0xc0b3358>]"
      ]
     },
     "execution_count": 90,
     "metadata": {},
     "output_type": "execute_result"
    },
    {
     "data": {
      "image/png": "[encoded data removed]",
      "text/plain": [
       "<Figure size 432x288 with 1 Axes>"
      ]
     },
     "metadata": {
      "needs_background": "light"
     },
     "output_type": "display_data"
    }
   ],
   "source": [
    "plt.plot(model_artm_tweets.score_tracker[\"SparsityThetaScore\"].value[50:])"
   ]
  },
  {
   "cell_type": "code",
   "execution_count": 91,
   "metadata": {},
   "outputs": [
    {
     "data": {
      "text/plain": [
       "[<matplotlib.lines.Line2D at 0xd7fe208>]"
      ]
     },
     "execution_count": 91,
     "metadata": {},
     "output_type": "execute_result"
    },
    {
     "data": {
      "image/png": "[encoded data removed]",
      "text/plain": [
       "<Figure size 432x288 with 1 Axes>"
      ]
     },
     "metadata": {
      "needs_background": "light"
     },
     "output_type": "display_data"
    }
   ],
   "source": [
    "plt.plot(model_artm_tweets.score_tracker[\"SparsityPhiScore\"].value)"
   ]
  },
  {
   "cell_type": "code",
   "execution_count": 93,
   "metadata": {},
   "outputs": [],
   "source": [
    "model_artm_tweets.regularizers.add(artm.DecorrelatorPhiRegularizer(name='DecorrelatorPhi2', topic_names = [\"sbj\"+str(i) for i in range(T)],tau=6e+6))"
   ]
  },
  {
   "cell_type": "code",
   "execution_count": 94,
   "metadata": {},
   "outputs": [],
   "source": [
    "model_artm_tweets.regularizers['DecorrelatorPhi2'].tau = 2e+1"
   ]
  },
  {
   "cell_type": "code",
   "execution_count": 72,
   "metadata": {},
   "outputs": [],
   "source": [
    "theta3 = model_artm_tweets.get_theta()\n",
    "theta3_sbj.to_csv('30.04_20_1\\\\theta_sbj')"
   ]
  },
  {
   "cell_type": "code",
   "execution_count": 73,
   "metadata": {},
   "outputs": [],
   "source": [
    "phi3 = model_artm_tweets.get_phi()\n",
    "phi3.to_csv('30.04_20_1\\\\phi3')"
   ]
  },
  {
   "cell_type": "code",
   "execution_count": 76,
   "metadata": {},
   "outputs": [],
   "source": [
    "theta3_sbj = theta3.T.drop([\"bcg\"+str(i) for i in range(F)], axis='columns')"
   ]
  },
  {
   "cell_type": "code",
   "execution_count": 79,
   "metadata": {},
   "outputs": [],
   "source": [
    "model_artm_tweets.dump_artm_model('30.04_20_1_model')"
   ]
  },
  {
   "cell_type": "code",
   "execution_count": null,
   "metadata": {},
   "outputs": [],
   "source": [
    "# # for topic_name in model_artm_tweets.topic_names:\n",
    "# #    print(topic_name, model_artm_tweets.score_tracker[\"top_words\"].last_tokens[topic_name])\n",
    "\n",
    "# #a=[];b=[]    \n",
    "# #for k in np.arange(0,len(c),1):#сортировка слов по убыванию частоты в i -м документе \n",
    "# #        ind=c.index(max(c));  a.append(c[ind])\n",
    "# #        b.append(d[ind]); del c[ind]; del d[ind]\n",
    "# #    x.append(i)#список номеров документов\n",
    "# #    y.append(len(a))#список количества слов в документах     \n",
    "# #    a=a[0:10];b=b[0:10]# TOP-10 для частот a  и слов b в i -м документе\n",
    "# #plt.xlabel(u'Номера документов', size=12)\n",
    "# #plt.ylabel(u'Количество слов', size=12)\n",
    "# #plt.bar(x,y, 1)\n",
    "# #plt.grid(True)\n",
    "# #plt.show()\n",
    "# top_tokens = model_artm_tweets.score_tracker[\"top_words\"]\n",
    "# topic_names = model_artm_tweets.topic_names[: - 1]\n",
    "# for topic_name in topic_names:\n",
    "#     for (token, weight) in zip(top_tokens.last_tokens[topic_name],\n",
    "#                                top_tokens.last_weights[topic_name]):\n",
    "#         print (token, '-', weight)\n",
    "#     print('/n')"
   ]
  },
  {
   "cell_type": "code",
   "execution_count": null,
   "metadata": {},
   "outputs": [],
   "source": [
    "# for topic_name in topic_names:\n",
    "#     x=[]\n",
    "#     y=[]\n",
    "#     for (token, weight) in zip(top_tokens.last_tokens[topic_name],\n",
    "#                                top_tokens.last_weights[topic_name]):\n",
    "#         x.append(token)#список номеров документов\n",
    "#         y.append(weight)#список количества слов в документах     \n",
    "#     plt.xlabel(u'Terms', size=12)\n",
    "#     plt.ylabel(u'Weight', size=12)\n",
    "#     plt.xticks(rotation=45, horizontalalignment='right', fontweight='light', fontsize='medium')\n",
    "#     plt.bar(x, y, 1,)\n",
    "#     plt.grid(True)\n",
    "#     plt.savefig('output/plt' + topic_name + '.png', bbox_inches='tight',dpi=100)\n",
    "#     plt.show()"
   ]
  },
  {
   "cell_type": "code",
   "execution_count": null,
   "metadata": {},
   "outputs": [],
   "source": [
    "# f = open('topics.txt', 'a', encoding='utf-8')\n",
    "# top_tokens = model_artm_tweets.score_tracker[\"top_words\"]\n",
    "# topic_names = model_artm_tweets.topic_names[: - 1]\n",
    "# for topic_name in topic_names:\n",
    "#     for (token, weight) in zip(top_tokens.last_tokens[topic_name],\n",
    "#                                top_tokens.last_weights[topic_name]):\n",
    "#         f.write(token + ' ' + topic_name[3:],)\n",
    "#         f.write('\\n')\n",
    "#     #f.write('\\n')\n",
    "# f.close()"
   ]
  },
  {
   "cell_type": "code",
   "execution_count": null,
   "metadata": {},
   "outputs": [],
   "source": [
    "# file_name = r\"2020-03-12_2020-04-30_tweets\\\\2020-03-12_2020-04-30_us_tweets.csv\"\n",
    "# us_tweets = pd.read_csv(file_name, sep=\",\", encoding='utf-8')\n",
    "# us_tweets_with_topics = us_tweets.join(theta3)\n",
    "# us_tweets_with_topics.to_csv(r'2020-03-12_2020-04-30_tweets\\\\2020-03-12_2020-04-30_us_tweets_with_topics.csv', index=False)"
   ]
  }
 ],
 "metadata": {
  "kernelspec": {
   "display_name": "Python 3",
   "language": "python",
   "name": "python3"
  },
  "language_info": {
   "codemirror_mode": {
    "name": "ipython",
    "version": 3
   },
   "file_extension": ".py",
   "mimetype": "text/x-python",
   "name": "python",
   "nbconvert_exporter": "python",
   "pygments_lexer": "ipython3",
   "version": "3.8.5"
  }
 },
 "nbformat": 4,
 "nbformat_minor": 2
}
